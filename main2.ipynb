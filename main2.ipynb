{
 "cells": [
  {
   "cell_type": "code",
   "execution_count": 1,
   "id": "71a95b9c",
   "metadata": {},
   "outputs": [],
   "source": [
    "import get_data_api as gda\n",
    "import data_enrichment as de\n",
    "import dim_tables as dim\n",
    "\n",
    "import clean as cl\n",
    "import transformation as tr\n",
    "import create_bbdd as db\n",
    "\n",
    "import pandas as pd"
   ]
  },
  {
   "cell_type": "code",
   "execution_count": 2,
   "id": "b1340291",
   "metadata": {},
   "outputs": [],
   "source": [
    "#get data from API\n",
    "#raw_users = gda.get_all_data('https://jsonplaceholder.typicode.com/users')"
   ]
  },
  {
   "cell_type": "code",
   "execution_count": 3,
   "id": "997e1177",
   "metadata": {},
   "outputs": [],
   "source": [
    "#get bookings data\n",
    "#raw_bookings = pd.read_csv('raw_bookings.csv', sep=';')"
   ]
  },
  {
   "cell_type": "code",
   "execution_count": 4,
   "id": "97716c79",
   "metadata": {},
   "outputs": [],
   "source": [
    "#create copy of raw_users\n",
    "#users_complete = raw_users.copy()"
   ]
  },
  {
   "cell_type": "markdown",
   "id": "9ee1f20c",
   "metadata": {},
   "source": [
    "-Data enrichment-"
   ]
  },
  {
   "cell_type": "markdown",
   "id": "984706bc",
   "metadata": {},
   "source": [
    "Users data"
   ]
  },
  {
   "cell_type": "code",
   "execution_count": 5,
   "id": "490d4013",
   "metadata": {},
   "outputs": [],
   "source": [
    "#enrich the user table to match the bookings table\n",
    "#users_complete = de.random_users(43562, users_complete)"
   ]
  },
  {
   "cell_type": "code",
   "execution_count": 6,
   "id": "1d92f56c",
   "metadata": {},
   "outputs": [],
   "source": [
    "#create copy of raw_users_complete\n",
    "#raw_users_complete = users_complete.copy()"
   ]
  },
  {
   "cell_type": "code",
   "execution_count": 7,
   "id": "d0a32dd2",
   "metadata": {},
   "outputs": [],
   "source": [
    "#create companies id in users df\n",
    "#de.create_id(raw_users_complete, 'company_id')"
   ]
  },
  {
   "cell_type": "code",
   "execution_count": 8,
   "id": "9c7261af",
   "metadata": {},
   "outputs": [],
   "source": [
    "#keep only 60% of companies\n",
    "#de.only_some_records(0.4, raw_users_complete, 'company_id', 'company')"
   ]
  },
  {
   "cell_type": "code",
   "execution_count": 9,
   "id": "b95d8d0b",
   "metadata": {},
   "outputs": [],
   "source": [
    "#raw_users_complete"
   ]
  },
  {
   "cell_type": "markdown",
   "id": "09dbc74a",
   "metadata": {},
   "source": [
    "Bookings data"
   ]
  },
  {
   "cell_type": "code",
   "execution_count": 10,
   "id": "140abc48",
   "metadata": {},
   "outputs": [],
   "source": [
    "#add booking codes to all bookings\n",
    "#raw_bookings = de.create_booking_id(raw_bookings)"
   ]
  },
  {
   "cell_type": "code",
   "execution_count": 11,
   "id": "b04f3921",
   "metadata": {},
   "outputs": [],
   "source": [
    "#add users_id to all bookings\n",
    "#de.create_id(raw_bookings, 'user_id', len(raw_users_complete))"
   ]
  },
  {
   "cell_type": "code",
   "execution_count": 12,
   "id": "49e57630",
   "metadata": {},
   "outputs": [],
   "source": [
    "#raw_bookings"
   ]
  },
  {
   "cell_type": "code",
   "execution_count": 13,
   "id": "6d2db9fb",
   "metadata": {},
   "outputs": [],
   "source": [
    "#save raw data\n",
    "#raw_bookings.to_csv('raw_bookings_extended.csv', index=False)\n",
    "\n",
    "#raw_users_complete.to_csv('raw_users_extended.csv', index=False)"
   ]
  },
  {
   "cell_type": "code",
   "execution_count": 14,
   "id": "34848785",
   "metadata": {},
   "outputs": [],
   "source": [
    "raw_bookings = pd.read_csv('raw_bookings_extended.csv')"
   ]
  },
  {
   "cell_type": "code",
   "execution_count": 15,
   "id": "9fa607f7",
   "metadata": {},
   "outputs": [],
   "source": [
    "raw_users_complete = pd.read_csv('raw_users_extended.csv')"
   ]
  },
  {
   "cell_type": "markdown",
   "id": "a1316e27",
   "metadata": {},
   "source": [
    "-Create dimension tables- "
   ]
  },
  {
   "cell_type": "code",
   "execution_count": 16,
   "id": "a995a1f4",
   "metadata": {},
   "outputs": [],
   "source": [
    "#Create dimension agents\n",
    "DIM_AGENTS = dim.create_dim_agent_table()"
   ]
  },
  {
   "cell_type": "code",
   "execution_count": 17,
   "id": "a24c2f09",
   "metadata": {},
   "outputs": [],
   "source": [
    "#Create dimension countries\n",
    "DIM_COUNTRIES = dim.create_dim_country_table()"
   ]
  },
  {
   "cell_type": "code",
   "execution_count": 18,
   "id": "9cee2543",
   "metadata": {},
   "outputs": [],
   "source": [
    "#Create dimension meals\n",
    "DIM_MEALS = dim.create_dim_meal_table()"
   ]
  },
  {
   "cell_type": "code",
   "execution_count": 19,
   "id": "b2e27cfb",
   "metadata": {},
   "outputs": [],
   "source": [
    "#Create dimension hotels\n",
    "DIM_HOTELS = dim.create_dim_hotel_table()"
   ]
  },
  {
   "cell_type": "code",
   "execution_count": 89,
   "id": "2d7a0640",
   "metadata": {},
   "outputs": [],
   "source": [
    "#Create dimension users without transformation\n",
    "DIM_USERS_WT = dim.create_dim_users_table(raw_users_complete)"
   ]
  },
  {
   "cell_type": "code",
   "execution_count": 90,
   "id": "c09856f2",
   "metadata": {},
   "outputs": [],
   "source": [
    "#Create dimension companies without transformation\n",
    "DIM_COMPANIES_WT = dim.create_dim_companies_table(raw_users_complete)"
   ]
  },
  {
   "cell_type": "markdown",
   "id": "5ea05d04",
   "metadata": {},
   "source": [
    "-Transformation-"
   ]
  },
  {
   "cell_type": "markdown",
   "id": "ce3d254c",
   "metadata": {},
   "source": [
    "Users"
   ]
  },
  {
   "cell_type": "code",
   "execution_count": 91,
   "id": "91b44eee",
   "metadata": {
    "collapsed": true
   },
   "outputs": [
    {
     "data": {
      "text/html": [
       "<div>\n",
       "<style scoped>\n",
       "    .dataframe tbody tr th:only-of-type {\n",
       "        vertical-align: middle;\n",
       "    }\n",
       "\n",
       "    .dataframe tbody tr th {\n",
       "        vertical-align: top;\n",
       "    }\n",
       "\n",
       "    .dataframe thead th {\n",
       "        text-align: right;\n",
       "    }\n",
       "</style>\n",
       "<table border=\"1\" class=\"dataframe\">\n",
       "  <thead>\n",
       "    <tr style=\"text-align: right;\">\n",
       "      <th></th>\n",
       "      <th>id</th>\n",
       "      <th>name</th>\n",
       "      <th>username</th>\n",
       "      <th>email</th>\n",
       "      <th>address</th>\n",
       "      <th>phone</th>\n",
       "      <th>website</th>\n",
       "    </tr>\n",
       "  </thead>\n",
       "  <tbody>\n",
       "    <tr>\n",
       "      <th>0</th>\n",
       "      <td>1</td>\n",
       "      <td>Leanne Graham</td>\n",
       "      <td>Bret</td>\n",
       "      <td>Sincere@april.biz</td>\n",
       "      <td>{'street': 'Kulas Light', 'suite': 'Apt. 556',...</td>\n",
       "      <td>1-770-736-8031 x56442</td>\n",
       "      <td>hildegard.org</td>\n",
       "    </tr>\n",
       "    <tr>\n",
       "      <th>1</th>\n",
       "      <td>2</td>\n",
       "      <td>Ervin Howell</td>\n",
       "      <td>Antonette</td>\n",
       "      <td>Shanna@melissa.tv</td>\n",
       "      <td>{'street': 'Victor Plains', 'suite': 'Suite 87...</td>\n",
       "      <td>010-692-6593 x09125</td>\n",
       "      <td>anastasia.net</td>\n",
       "    </tr>\n",
       "    <tr>\n",
       "      <th>2</th>\n",
       "      <td>3</td>\n",
       "      <td>Clementine Bauch</td>\n",
       "      <td>Samantha</td>\n",
       "      <td>Nathan@yesenia.net</td>\n",
       "      <td>{'street': 'Douglas Extension', 'suite': 'Suit...</td>\n",
       "      <td>1-463-123-4447</td>\n",
       "      <td>ramiro.info</td>\n",
       "    </tr>\n",
       "    <tr>\n",
       "      <th>3</th>\n",
       "      <td>4</td>\n",
       "      <td>Patricia Lebsack</td>\n",
       "      <td>Karianne</td>\n",
       "      <td>Julianne.OConner@kory.org</td>\n",
       "      <td>{'street': 'Hoeger Mall', 'suite': 'Apt. 692',...</td>\n",
       "      <td>493-170-9623 x156</td>\n",
       "      <td>kale.biz</td>\n",
       "    </tr>\n",
       "    <tr>\n",
       "      <th>4</th>\n",
       "      <td>5</td>\n",
       "      <td>Chelsey Dietrich</td>\n",
       "      <td>Kamren</td>\n",
       "      <td>Lucio_Hettinger@annie.ca</td>\n",
       "      <td>{'street': 'Skiles Walks', 'suite': 'Suite 351...</td>\n",
       "      <td>(254)954-1289</td>\n",
       "      <td>demarco.info</td>\n",
       "    </tr>\n",
       "    <tr>\n",
       "      <th>...</th>\n",
       "      <td>...</td>\n",
       "      <td>...</td>\n",
       "      <td>...</td>\n",
       "      <td>...</td>\n",
       "      <td>...</td>\n",
       "      <td>...</td>\n",
       "      <td>...</td>\n",
       "    </tr>\n",
       "    <tr>\n",
       "      <th>43567</th>\n",
       "      <td>43568</td>\n",
       "      <td>Pamela Jackson</td>\n",
       "      <td>rick55</td>\n",
       "      <td>harrisonfaith@example.net</td>\n",
       "      <td>{'street': 'Andre Estate', 'suite': 'Apt. 101'...</td>\n",
       "      <td>293-750-8683x8919</td>\n",
       "      <td>https://www.harvey.info/</td>\n",
       "    </tr>\n",
       "    <tr>\n",
       "      <th>43568</th>\n",
       "      <td>43569</td>\n",
       "      <td>Erika Lester</td>\n",
       "      <td>matthew87</td>\n",
       "      <td>villanuevaleonard@example.net</td>\n",
       "      <td>{'street': 'Mallory Locks', 'suite': 'Suite 20...</td>\n",
       "      <td>213.673.1020x51817</td>\n",
       "      <td>http://morgan.info/</td>\n",
       "    </tr>\n",
       "    <tr>\n",
       "      <th>43569</th>\n",
       "      <td>43570</td>\n",
       "      <td>Rebecca Sanchez</td>\n",
       "      <td>jenniferclark</td>\n",
       "      <td>duranthomas@example.com</td>\n",
       "      <td>{'street': 'Jason Rest', 'suite': 'Room 303', ...</td>\n",
       "      <td>(294)525-0435x698</td>\n",
       "      <td>https://graham-smith.org/</td>\n",
       "    </tr>\n",
       "    <tr>\n",
       "      <th>43570</th>\n",
       "      <td>43571</td>\n",
       "      <td>Mrs. Michelle Robinson</td>\n",
       "      <td>xware</td>\n",
       "      <td>kevin04@example.org</td>\n",
       "      <td>{'street': 'Lopez Centers', 'suite': 'Room 303...</td>\n",
       "      <td>2855253338</td>\n",
       "      <td>http://romero.com/</td>\n",
       "    </tr>\n",
       "    <tr>\n",
       "      <th>43571</th>\n",
       "      <td>43572</td>\n",
       "      <td>Emily Martin</td>\n",
       "      <td>valerieperkins</td>\n",
       "      <td>paul32@example.org</td>\n",
       "      <td>{'street': 'Adam Branch', 'suite': 'Apt. 101',...</td>\n",
       "      <td>936-708-5212</td>\n",
       "      <td>http://acevedo.net/</td>\n",
       "    </tr>\n",
       "  </tbody>\n",
       "</table>\n",
       "<p>43572 rows × 7 columns</p>\n",
       "</div>"
      ],
      "text/plain": [
       "          id                    name        username  \\\n",
       "0          1           Leanne Graham            Bret   \n",
       "1          2            Ervin Howell       Antonette   \n",
       "2          3        Clementine Bauch        Samantha   \n",
       "3          4        Patricia Lebsack        Karianne   \n",
       "4          5        Chelsey Dietrich          Kamren   \n",
       "...      ...                     ...             ...   \n",
       "43567  43568          Pamela Jackson          rick55   \n",
       "43568  43569            Erika Lester       matthew87   \n",
       "43569  43570         Rebecca Sanchez   jenniferclark   \n",
       "43570  43571  Mrs. Michelle Robinson           xware   \n",
       "43571  43572            Emily Martin  valerieperkins   \n",
       "\n",
       "                               email  \\\n",
       "0                  Sincere@april.biz   \n",
       "1                  Shanna@melissa.tv   \n",
       "2                 Nathan@yesenia.net   \n",
       "3          Julianne.OConner@kory.org   \n",
       "4           Lucio_Hettinger@annie.ca   \n",
       "...                              ...   \n",
       "43567      harrisonfaith@example.net   \n",
       "43568  villanuevaleonard@example.net   \n",
       "43569        duranthomas@example.com   \n",
       "43570            kevin04@example.org   \n",
       "43571             paul32@example.org   \n",
       "\n",
       "                                                 address  \\\n",
       "0      {'street': 'Kulas Light', 'suite': 'Apt. 556',...   \n",
       "1      {'street': 'Victor Plains', 'suite': 'Suite 87...   \n",
       "2      {'street': 'Douglas Extension', 'suite': 'Suit...   \n",
       "3      {'street': 'Hoeger Mall', 'suite': 'Apt. 692',...   \n",
       "4      {'street': 'Skiles Walks', 'suite': 'Suite 351...   \n",
       "...                                                  ...   \n",
       "43567  {'street': 'Andre Estate', 'suite': 'Apt. 101'...   \n",
       "43568  {'street': 'Mallory Locks', 'suite': 'Suite 20...   \n",
       "43569  {'street': 'Jason Rest', 'suite': 'Room 303', ...   \n",
       "43570  {'street': 'Lopez Centers', 'suite': 'Room 303...   \n",
       "43571  {'street': 'Adam Branch', 'suite': 'Apt. 101',...   \n",
       "\n",
       "                       phone                    website  \n",
       "0      1-770-736-8031 x56442              hildegard.org  \n",
       "1        010-692-6593 x09125              anastasia.net  \n",
       "2             1-463-123-4447                ramiro.info  \n",
       "3          493-170-9623 x156                   kale.biz  \n",
       "4              (254)954-1289               demarco.info  \n",
       "...                      ...                        ...  \n",
       "43567      293-750-8683x8919   https://www.harvey.info/  \n",
       "43568     213.673.1020x51817        http://morgan.info/  \n",
       "43569      (294)525-0435x698  https://graham-smith.org/  \n",
       "43570             2855253338         http://romero.com/  \n",
       "43571           936-708-5212        http://acevedo.net/  \n",
       "\n",
       "[43572 rows x 7 columns]"
      ]
     },
     "execution_count": 91,
     "metadata": {},
     "output_type": "execute_result"
    }
   ],
   "source": [
    "DIM_USERS_WT"
   ]
  },
  {
   "cell_type": "code",
   "execution_count": 23,
   "id": "a5573256",
   "metadata": {},
   "outputs": [],
   "source": [
    "#delete unnecessary columns\n",
    "DIM_USERS = tr.delete_columns(DIM_USERS_WT, ['username'])"
   ]
  },
  {
   "cell_type": "code",
   "execution_count": 24,
   "id": "043114ab",
   "metadata": {},
   "outputs": [],
   "source": [
    "#lowercase some columns\n",
    "DIM_USERS = tr.lowercase(DIM_USERS, ['email', 'website'])"
   ]
  },
  {
   "cell_type": "code",
   "execution_count": 25,
   "id": "5a50643c",
   "metadata": {},
   "outputs": [],
   "source": [
    "DIM_USERS =  tr.capitalize_rename_columns(DIM_USERS, ['USER_ID', 'USER_NAME', 'USER_EMAIL','USER_ADDRESS', 'USER_PHONE', 'USER_WEBSITE'])"
   ]
  },
  {
   "cell_type": "code",
   "execution_count": 26,
   "id": "747301b4",
   "metadata": {
    "collapsed": true
   },
   "outputs": [
    {
     "data": {
      "text/html": [
       "<div>\n",
       "<style scoped>\n",
       "    .dataframe tbody tr th:only-of-type {\n",
       "        vertical-align: middle;\n",
       "    }\n",
       "\n",
       "    .dataframe tbody tr th {\n",
       "        vertical-align: top;\n",
       "    }\n",
       "\n",
       "    .dataframe thead th {\n",
       "        text-align: right;\n",
       "    }\n",
       "</style>\n",
       "<table border=\"1\" class=\"dataframe\">\n",
       "  <thead>\n",
       "    <tr style=\"text-align: right;\">\n",
       "      <th></th>\n",
       "      <th>USER_ID</th>\n",
       "      <th>USER_NAME</th>\n",
       "      <th>USER_EMAIL</th>\n",
       "      <th>USER_ADDRESS</th>\n",
       "      <th>USER_PHONE</th>\n",
       "      <th>USER_WEBSITE</th>\n",
       "    </tr>\n",
       "  </thead>\n",
       "  <tbody>\n",
       "    <tr>\n",
       "      <th>0</th>\n",
       "      <td>1</td>\n",
       "      <td>Leanne Graham</td>\n",
       "      <td>sincere@april.biz</td>\n",
       "      <td>{'street': 'Kulas Light', 'suite': 'Apt. 556',...</td>\n",
       "      <td>1-770-736-8031 x56442</td>\n",
       "      <td>hildegard.org</td>\n",
       "    </tr>\n",
       "    <tr>\n",
       "      <th>1</th>\n",
       "      <td>2</td>\n",
       "      <td>Ervin Howell</td>\n",
       "      <td>shanna@melissa.tv</td>\n",
       "      <td>{'street': 'Victor Plains', 'suite': 'Suite 87...</td>\n",
       "      <td>010-692-6593 x09125</td>\n",
       "      <td>anastasia.net</td>\n",
       "    </tr>\n",
       "    <tr>\n",
       "      <th>2</th>\n",
       "      <td>3</td>\n",
       "      <td>Clementine Bauch</td>\n",
       "      <td>nathan@yesenia.net</td>\n",
       "      <td>{'street': 'Douglas Extension', 'suite': 'Suit...</td>\n",
       "      <td>1-463-123-4447</td>\n",
       "      <td>ramiro.info</td>\n",
       "    </tr>\n",
       "    <tr>\n",
       "      <th>3</th>\n",
       "      <td>4</td>\n",
       "      <td>Patricia Lebsack</td>\n",
       "      <td>julianne.oconner@kory.org</td>\n",
       "      <td>{'street': 'Hoeger Mall', 'suite': 'Apt. 692',...</td>\n",
       "      <td>493-170-9623 x156</td>\n",
       "      <td>kale.biz</td>\n",
       "    </tr>\n",
       "    <tr>\n",
       "      <th>4</th>\n",
       "      <td>5</td>\n",
       "      <td>Chelsey Dietrich</td>\n",
       "      <td>lucio_hettinger@annie.ca</td>\n",
       "      <td>{'street': 'Skiles Walks', 'suite': 'Suite 351...</td>\n",
       "      <td>(254)954-1289</td>\n",
       "      <td>demarco.info</td>\n",
       "    </tr>\n",
       "    <tr>\n",
       "      <th>...</th>\n",
       "      <td>...</td>\n",
       "      <td>...</td>\n",
       "      <td>...</td>\n",
       "      <td>...</td>\n",
       "      <td>...</td>\n",
       "      <td>...</td>\n",
       "    </tr>\n",
       "    <tr>\n",
       "      <th>43567</th>\n",
       "      <td>43568</td>\n",
       "      <td>Pamela Jackson</td>\n",
       "      <td>harrisonfaith@example.net</td>\n",
       "      <td>{'street': 'Andre Estate', 'suite': 'Apt. 101'...</td>\n",
       "      <td>293-750-8683x8919</td>\n",
       "      <td>https://www.harvey.info/</td>\n",
       "    </tr>\n",
       "    <tr>\n",
       "      <th>43568</th>\n",
       "      <td>43569</td>\n",
       "      <td>Erika Lester</td>\n",
       "      <td>villanuevaleonard@example.net</td>\n",
       "      <td>{'street': 'Mallory Locks', 'suite': 'Suite 20...</td>\n",
       "      <td>213.673.1020x51817</td>\n",
       "      <td>http://morgan.info/</td>\n",
       "    </tr>\n",
       "    <tr>\n",
       "      <th>43569</th>\n",
       "      <td>43570</td>\n",
       "      <td>Rebecca Sanchez</td>\n",
       "      <td>duranthomas@example.com</td>\n",
       "      <td>{'street': 'Jason Rest', 'suite': 'Room 303', ...</td>\n",
       "      <td>(294)525-0435x698</td>\n",
       "      <td>https://graham-smith.org/</td>\n",
       "    </tr>\n",
       "    <tr>\n",
       "      <th>43570</th>\n",
       "      <td>43571</td>\n",
       "      <td>Mrs. Michelle Robinson</td>\n",
       "      <td>kevin04@example.org</td>\n",
       "      <td>{'street': 'Lopez Centers', 'suite': 'Room 303...</td>\n",
       "      <td>2855253338</td>\n",
       "      <td>http://romero.com/</td>\n",
       "    </tr>\n",
       "    <tr>\n",
       "      <th>43571</th>\n",
       "      <td>43572</td>\n",
       "      <td>Emily Martin</td>\n",
       "      <td>paul32@example.org</td>\n",
       "      <td>{'street': 'Adam Branch', 'suite': 'Apt. 101',...</td>\n",
       "      <td>936-708-5212</td>\n",
       "      <td>http://acevedo.net/</td>\n",
       "    </tr>\n",
       "  </tbody>\n",
       "</table>\n",
       "<p>43572 rows × 6 columns</p>\n",
       "</div>"
      ],
      "text/plain": [
       "       USER_ID               USER_NAME                     USER_EMAIL  \\\n",
       "0            1           Leanne Graham              sincere@april.biz   \n",
       "1            2            Ervin Howell              shanna@melissa.tv   \n",
       "2            3        Clementine Bauch             nathan@yesenia.net   \n",
       "3            4        Patricia Lebsack      julianne.oconner@kory.org   \n",
       "4            5        Chelsey Dietrich       lucio_hettinger@annie.ca   \n",
       "...        ...                     ...                            ...   \n",
       "43567    43568          Pamela Jackson      harrisonfaith@example.net   \n",
       "43568    43569            Erika Lester  villanuevaleonard@example.net   \n",
       "43569    43570         Rebecca Sanchez        duranthomas@example.com   \n",
       "43570    43571  Mrs. Michelle Robinson            kevin04@example.org   \n",
       "43571    43572            Emily Martin             paul32@example.org   \n",
       "\n",
       "                                            USER_ADDRESS  \\\n",
       "0      {'street': 'Kulas Light', 'suite': 'Apt. 556',...   \n",
       "1      {'street': 'Victor Plains', 'suite': 'Suite 87...   \n",
       "2      {'street': 'Douglas Extension', 'suite': 'Suit...   \n",
       "3      {'street': 'Hoeger Mall', 'suite': 'Apt. 692',...   \n",
       "4      {'street': 'Skiles Walks', 'suite': 'Suite 351...   \n",
       "...                                                  ...   \n",
       "43567  {'street': 'Andre Estate', 'suite': 'Apt. 101'...   \n",
       "43568  {'street': 'Mallory Locks', 'suite': 'Suite 20...   \n",
       "43569  {'street': 'Jason Rest', 'suite': 'Room 303', ...   \n",
       "43570  {'street': 'Lopez Centers', 'suite': 'Room 303...   \n",
       "43571  {'street': 'Adam Branch', 'suite': 'Apt. 101',...   \n",
       "\n",
       "                  USER_PHONE               USER_WEBSITE  \n",
       "0      1-770-736-8031 x56442              hildegard.org  \n",
       "1        010-692-6593 x09125              anastasia.net  \n",
       "2             1-463-123-4447                ramiro.info  \n",
       "3          493-170-9623 x156                   kale.biz  \n",
       "4              (254)954-1289               demarco.info  \n",
       "...                      ...                        ...  \n",
       "43567      293-750-8683x8919   https://www.harvey.info/  \n",
       "43568     213.673.1020x51817        http://morgan.info/  \n",
       "43569      (294)525-0435x698  https://graham-smith.org/  \n",
       "43570             2855253338         http://romero.com/  \n",
       "43571           936-708-5212        http://acevedo.net/  \n",
       "\n",
       "[43572 rows x 6 columns]"
      ]
     },
     "execution_count": 26,
     "metadata": {},
     "output_type": "execute_result"
    }
   ],
   "source": [
    "DIM_USERS"
   ]
  },
  {
   "cell_type": "markdown",
   "id": "949f1b92",
   "metadata": {},
   "source": [
    "Companies"
   ]
  },
  {
   "cell_type": "code",
   "execution_count": 35,
   "id": "1db068e7",
   "metadata": {
    "collapsed": true
   },
   "outputs": [
    {
     "data": {
      "text/html": [
       "<div>\n",
       "<style scoped>\n",
       "    .dataframe tbody tr th:only-of-type {\n",
       "        vertical-align: middle;\n",
       "    }\n",
       "\n",
       "    .dataframe tbody tr th {\n",
       "        vertical-align: top;\n",
       "    }\n",
       "\n",
       "    .dataframe thead th {\n",
       "        text-align: right;\n",
       "    }\n",
       "</style>\n",
       "<table border=\"1\" class=\"dataframe\">\n",
       "  <thead>\n",
       "    <tr style=\"text-align: right;\">\n",
       "      <th></th>\n",
       "      <th>company</th>\n",
       "      <th>company_id</th>\n",
       "    </tr>\n",
       "  </thead>\n",
       "  <tbody>\n",
       "    <tr>\n",
       "      <th>0</th>\n",
       "      <td>{'name': 'Romaguera-Crona', 'catchPhrase': 'Mu...</td>\n",
       "      <td>9140.0</td>\n",
       "    </tr>\n",
       "    <tr>\n",
       "      <th>1</th>\n",
       "      <td>NaN</td>\n",
       "      <td>NaN</td>\n",
       "    </tr>\n",
       "    <tr>\n",
       "      <th>2</th>\n",
       "      <td>NaN</td>\n",
       "      <td>NaN</td>\n",
       "    </tr>\n",
       "    <tr>\n",
       "      <th>3</th>\n",
       "      <td>{'name': 'Robel-Corkery', 'catchPhrase': 'Mult...</td>\n",
       "      <td>1665.0</td>\n",
       "    </tr>\n",
       "    <tr>\n",
       "      <th>4</th>\n",
       "      <td>{'name': 'Keebler LLC', 'catchPhrase': 'User-c...</td>\n",
       "      <td>12728.0</td>\n",
       "    </tr>\n",
       "    <tr>\n",
       "      <th>...</th>\n",
       "      <td>...</td>\n",
       "      <td>...</td>\n",
       "    </tr>\n",
       "    <tr>\n",
       "      <th>43567</th>\n",
       "      <td>NaN</td>\n",
       "      <td>NaN</td>\n",
       "    </tr>\n",
       "    <tr>\n",
       "      <th>43568</th>\n",
       "      <td>{'name': 'Hamilton-Gonzales', 'catchPhrase': '...</td>\n",
       "      <td>10057.0</td>\n",
       "    </tr>\n",
       "    <tr>\n",
       "      <th>43569</th>\n",
       "      <td>NaN</td>\n",
       "      <td>NaN</td>\n",
       "    </tr>\n",
       "    <tr>\n",
       "      <th>43570</th>\n",
       "      <td>NaN</td>\n",
       "      <td>NaN</td>\n",
       "    </tr>\n",
       "    <tr>\n",
       "      <th>43571</th>\n",
       "      <td>NaN</td>\n",
       "      <td>NaN</td>\n",
       "    </tr>\n",
       "  </tbody>\n",
       "</table>\n",
       "<p>43572 rows × 2 columns</p>\n",
       "</div>"
      ],
      "text/plain": [
       "                                                 company  company_id\n",
       "0      {'name': 'Romaguera-Crona', 'catchPhrase': 'Mu...      9140.0\n",
       "1                                                    NaN         NaN\n",
       "2                                                    NaN         NaN\n",
       "3      {'name': 'Robel-Corkery', 'catchPhrase': 'Mult...      1665.0\n",
       "4      {'name': 'Keebler LLC', 'catchPhrase': 'User-c...     12728.0\n",
       "...                                                  ...         ...\n",
       "43567                                                NaN         NaN\n",
       "43568  {'name': 'Hamilton-Gonzales', 'catchPhrase': '...     10057.0\n",
       "43569                                                NaN         NaN\n",
       "43570                                                NaN         NaN\n",
       "43571                                                NaN         NaN\n",
       "\n",
       "[43572 rows x 2 columns]"
      ]
     },
     "execution_count": 35,
     "metadata": {},
     "output_type": "execute_result"
    }
   ],
   "source": [
    "DIM_COMPANIES_WT"
   ]
  },
  {
   "cell_type": "code",
   "execution_count": 94,
   "id": "df308712",
   "metadata": {},
   "outputs": [],
   "source": [
    "#Delete rows containing NaN values\n",
    "DIM_COMPANIES = tr.drop_nan_rows(DIM_COMPANIES_WT)"
   ]
  },
  {
   "cell_type": "code",
   "execution_count": 38,
   "id": "0500dfc9",
   "metadata": {},
   "outputs": [],
   "source": [
    "#normalize company column\n",
    "DIM_COMPANIES = tr.normalize_column(DIM_COMPANIES, ['company'])"
   ]
  },
  {
   "cell_type": "code",
   "execution_count": 83,
   "id": "09c65158",
   "metadata": {},
   "outputs": [
    {
     "data": {
      "text/html": [
       "<div>\n",
       "<style scoped>\n",
       "    .dataframe tbody tr th:only-of-type {\n",
       "        vertical-align: middle;\n",
       "    }\n",
       "\n",
       "    .dataframe tbody tr th {\n",
       "        vertical-align: top;\n",
       "    }\n",
       "\n",
       "    .dataframe thead th {\n",
       "        text-align: right;\n",
       "    }\n",
       "</style>\n",
       "<table border=\"1\" class=\"dataframe\">\n",
       "  <thead>\n",
       "    <tr style=\"text-align: right;\">\n",
       "      <th></th>\n",
       "      <th>company</th>\n",
       "      <th>company_id</th>\n",
       "    </tr>\n",
       "  </thead>\n",
       "  <tbody>\n",
       "    <tr>\n",
       "      <th>0</th>\n",
       "      <td>{'name': 'Romaguera-Crona', 'catchPhrase': 'Mu...</td>\n",
       "      <td>9140.0</td>\n",
       "    </tr>\n",
       "    <tr>\n",
       "      <th>3</th>\n",
       "      <td>{'name': 'Robel-Corkery', 'catchPhrase': 'Mult...</td>\n",
       "      <td>1665.0</td>\n",
       "    </tr>\n",
       "    <tr>\n",
       "      <th>4</th>\n",
       "      <td>{'name': 'Keebler LLC', 'catchPhrase': 'User-c...</td>\n",
       "      <td>12728.0</td>\n",
       "    </tr>\n",
       "    <tr>\n",
       "      <th>8</th>\n",
       "      <td>{'name': 'Yost and Sons', 'catchPhrase': 'Swit...</td>\n",
       "      <td>16007.0</td>\n",
       "    </tr>\n",
       "    <tr>\n",
       "      <th>9</th>\n",
       "      <td>{'name': 'Hoeger LLC', 'catchPhrase': 'Central...</td>\n",
       "      <td>13993.0</td>\n",
       "    </tr>\n",
       "    <tr>\n",
       "      <th>...</th>\n",
       "      <td>...</td>\n",
       "      <td>...</td>\n",
       "    </tr>\n",
       "    <tr>\n",
       "      <th>43562</th>\n",
       "      <td>{'name': 'Wilson and Sons', 'catchPhrase': 'Ne...</td>\n",
       "      <td>22925.0</td>\n",
       "    </tr>\n",
       "    <tr>\n",
       "      <th>43564</th>\n",
       "      <td>{'name': 'Walter Inc', 'catchPhrase': 'Multi-l...</td>\n",
       "      <td>6595.0</td>\n",
       "    </tr>\n",
       "    <tr>\n",
       "      <th>43565</th>\n",
       "      <td>{'name': 'Bowman-Becker', 'catchPhrase': 'Vers...</td>\n",
       "      <td>15094.0</td>\n",
       "    </tr>\n",
       "    <tr>\n",
       "      <th>43566</th>\n",
       "      <td>{'name': 'Chavez Ltd', 'catchPhrase': 'Enhance...</td>\n",
       "      <td>13226.0</td>\n",
       "    </tr>\n",
       "    <tr>\n",
       "      <th>43568</th>\n",
       "      <td>{'name': 'Hamilton-Gonzales', 'catchPhrase': '...</td>\n",
       "      <td>10057.0</td>\n",
       "    </tr>\n",
       "  </tbody>\n",
       "</table>\n",
       "<p>26144 rows × 2 columns</p>\n",
       "</div>"
      ],
      "text/plain": [
       "                                                 company  company_id\n",
       "0      {'name': 'Romaguera-Crona', 'catchPhrase': 'Mu...      9140.0\n",
       "3      {'name': 'Robel-Corkery', 'catchPhrase': 'Mult...      1665.0\n",
       "4      {'name': 'Keebler LLC', 'catchPhrase': 'User-c...     12728.0\n",
       "8      {'name': 'Yost and Sons', 'catchPhrase': 'Swit...     16007.0\n",
       "9      {'name': 'Hoeger LLC', 'catchPhrase': 'Central...     13993.0\n",
       "...                                                  ...         ...\n",
       "43562  {'name': 'Wilson and Sons', 'catchPhrase': 'Ne...     22925.0\n",
       "43564  {'name': 'Walter Inc', 'catchPhrase': 'Multi-l...      6595.0\n",
       "43565  {'name': 'Bowman-Becker', 'catchPhrase': 'Vers...     15094.0\n",
       "43566  {'name': 'Chavez Ltd', 'catchPhrase': 'Enhance...     13226.0\n",
       "43568  {'name': 'Hamilton-Gonzales', 'catchPhrase': '...     10057.0\n",
       "\n",
       "[26144 rows x 2 columns]"
      ]
     },
     "execution_count": 83,
     "metadata": {},
     "output_type": "execute_result"
    }
   ],
   "source": [
    "DIM_COMPANIES"
   ]
  },
  {
   "cell_type": "code",
   "execution_count": 98,
   "id": "0be17456",
   "metadata": {},
   "outputs": [],
   "source": [
    "def normalize_column(df, list_columns):\n",
    "        \n",
    "    '''\n",
    "        Function to normalize several columns of a dataFrame where the parameters to be passed are:\n",
    "        df = pandas DataFrame\n",
    "        list_columns = a list from strings referals to columns of df above\n",
    "    '''\n",
    "    for i in list_columns:\n",
    "        \n",
    "        df[i].apply(json.loads)\n",
    "\n",
    "        #normalize column\n",
    "        df_column = pd.json_normalize(df[i])\n",
    "        #union dfs\n",
    "        df_concat = pd.concat([df, df_column], axis=1)\n",
    "        #delete column from original df\n",
    "        df_complete = df_concat.drop(i, axis=1)\n",
    "    \n",
    "    return df_complete"
   ]
  },
  {
   "cell_type": "code",
   "execution_count": 107,
   "id": "34513cf9",
   "metadata": {},
   "outputs": [],
   "source": [
    "def convertir_a_diccionario(cadena_json):\n",
    "    return json.loads(cadena_json)"
   ]
  },
  {
   "cell_type": "code",
   "execution_count": 108,
   "id": "8484a7e1",
   "metadata": {},
   "outputs": [],
   "source": [
    "def corregir_comillas(json_string):\n",
    "    try:\n",
    "        # Intenta cargar la cadena JSON\n",
    "        json_dict = json.loads(json_string)\n",
    "        # Convierte el diccionario nuevamente a cadena con comillas dobles\n",
    "        corrected_json = json.dumps(json_dict)\n",
    "        return corrected_json\n",
    "    except (json.JSONDecodeError, TypeError):\n",
    "        # Si hay un error al decodificar, devuelve la cadena original\n",
    "        return json_string\n",
    "\n",
    "\n"
   ]
  },
  {
   "cell_type": "code",
   "execution_count": 110,
   "id": "801eb7be",
   "metadata": {},
   "outputs": [
    {
     "name": "stderr",
     "output_type": "stream",
     "text": [
      "/var/folders/rl/yz92x8t11xdb1nzx_yt5x87h0000gn/T/ipykernel_30906/2839618298.py:2: SettingWithCopyWarning: \n",
      "A value is trying to be set on a copy of a slice from a DataFrame.\n",
      "Try using .loc[row_indexer,col_indexer] = value instead\n",
      "\n",
      "See the caveats in the documentation: https://pandas.pydata.org/pandas-docs/stable/user_guide/indexing.html#returning-a-view-versus-a-copy\n",
      "  DIM_COMPANIES['company'] = DIM_COMPANIES['company'].apply(lambda x: corregir_comillas(x) if pd.notna(x) else x)\n"
     ]
    }
   ],
   "source": [
    "# Utilizar .loc para evitar SettingWithCopyWarning\n",
    "DIM_COMPANIES['company'] = DIM_COMPANIES['company'].apply(lambda x: corregir_comillas(x) if pd.notna(x) else x)\n"
   ]
  },
  {
   "cell_type": "code",
   "execution_count": 111,
   "id": "408ac323",
   "metadata": {},
   "outputs": [
    {
     "data": {
      "text/plain": [
       "0        {'name': 'Romaguera-Crona', 'catchPhrase': 'Mu...\n",
       "3        {'name': 'Robel-Corkery', 'catchPhrase': 'Mult...\n",
       "4        {'name': 'Keebler LLC', 'catchPhrase': 'User-c...\n",
       "8        {'name': 'Yost and Sons', 'catchPhrase': 'Swit...\n",
       "9        {'name': 'Hoeger LLC', 'catchPhrase': 'Central...\n",
       "                               ...                        \n",
       "43562    {'name': 'Wilson and Sons', 'catchPhrase': 'Ne...\n",
       "43564    {'name': 'Walter Inc', 'catchPhrase': 'Multi-l...\n",
       "43565    {'name': 'Bowman-Becker', 'catchPhrase': 'Vers...\n",
       "43566    {'name': 'Chavez Ltd', 'catchPhrase': 'Enhance...\n",
       "43568    {'name': 'Hamilton-Gonzales', 'catchPhrase': '...\n",
       "Name: company, Length: 26144, dtype: object"
      ]
     },
     "execution_count": 111,
     "metadata": {},
     "output_type": "execute_result"
    }
   ],
   "source": [
    "DIM_COMPANIES['company']"
   ]
  },
  {
   "cell_type": "code",
   "execution_count": null,
   "id": "bbfc0430",
   "metadata": {},
   "outputs": [],
   "source": []
  }
 ],
 "metadata": {
  "kernelspec": {
   "display_name": "Python 3 (ipykernel)",
   "language": "python",
   "name": "python3"
  },
  "language_info": {
   "codemirror_mode": {
    "name": "ipython",
    "version": 3
   },
   "file_extension": ".py",
   "mimetype": "text/x-python",
   "name": "python",
   "nbconvert_exporter": "python",
   "pygments_lexer": "ipython3",
   "version": "3.10.9"
  },
  "toc": {
   "base_numbering": 1,
   "nav_menu": {},
   "number_sections": true,
   "sideBar": true,
   "skip_h1_title": false,
   "title_cell": "Table of Contents",
   "title_sidebar": "Contents",
   "toc_cell": false,
   "toc_position": {},
   "toc_section_display": true,
   "toc_window_display": false
  }
 },
 "nbformat": 4,
 "nbformat_minor": 5
}
