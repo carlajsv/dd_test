{
 "cells": [
  {
   "cell_type": "code",
   "execution_count": 42,
   "id": "1880c0c3",
   "metadata": {},
   "outputs": [],
   "source": [
    "import pandas as pd\n",
    "import requests\n",
    "\n",
    "import api"
   ]
  },
  {
   "cell_type": "code",
   "execution_count": 46,
   "id": "f015a2a4",
   "metadata": {},
   "outputs": [],
   "source": [
    "#get API data\n",
    "url = 'https://jsonplaceholder.typicode.com/users'\n",
    "\n",
    "raw_users = api.add_data(url)"
   ]
  },
  {
   "cell_type": "code",
   "execution_count": 49,
   "id": "74937798",
   "metadata": {},
   "outputs": [
    {
     "data": {
      "text/plain": [
       "Index(['id', 'name', 'username', 'email', 'address', 'phone', 'website',\n",
       "       'company'],\n",
       "      dtype='object')"
      ]
     },
     "execution_count": 49,
     "metadata": {},
     "output_type": "execute_result"
    }
   ],
   "source": [
    "raw_users.columns"
   ]
  },
  {
   "cell_type": "code",
   "execution_count": 53,
   "id": "25acc76d",
   "metadata": {},
   "outputs": [
    {
     "data": {
      "text/plain": [
       "{'name': 'Romaguera-Crona',\n",
       " 'catchPhrase': 'Multi-layered client-server neural-net',\n",
       " 'bs': 'harness real-time e-markets'}"
      ]
     },
     "execution_count": 53,
     "metadata": {},
     "output_type": "execute_result"
    }
   ],
   "source": [
    "raw_users['company'][0]"
   ]
  },
  {
   "cell_type": "code",
   "execution_count": 54,
   "id": "b28885ab",
   "metadata": {},
   "outputs": [],
   "source": [
    "raw_bookings = pd.read_csv('raw_bookings.csv')"
   ]
  },
  {
   "cell_type": "code",
   "execution_count": null,
   "id": "11eb3ba8",
   "metadata": {},
   "outputs": [],
   "source": []
  },
  {
   "cell_type": "code",
   "execution_count": 48,
   "id": "7e10327a",
   "metadata": {},
   "outputs": [
    {
     "data": {
      "text/plain": [
       "Index(['hotel;is_canceled;lead_time;arrival_date_year;arrival_date_month;arrival_date_day_of_month;stays_in_weekend_nights;stays_in_week_nights;adults;children;meal;country;is_repeated_guest;previous_cancellations;previous_bookings_not_canceled;reserved_room_type;assigned_room_type;agent;reservation_status;reservation_status_date'], dtype='object')"
      ]
     },
     "execution_count": 48,
     "metadata": {},
     "output_type": "execute_result"
    }
   ],
   "source": [
    "\n",
    "raw_bookings.columns"
   ]
  },
  {
   "cell_type": "code",
   "execution_count": null,
   "id": "fad073af",
   "metadata": {},
   "outputs": [],
   "source": []
  }
 ],
 "metadata": {
  "kernelspec": {
   "display_name": "Python 3 (ipykernel)",
   "language": "python",
   "name": "python3"
  },
  "language_info": {
   "codemirror_mode": {
    "name": "ipython",
    "version": 3
   },
   "file_extension": ".py",
   "mimetype": "text/x-python",
   "name": "python",
   "nbconvert_exporter": "python",
   "pygments_lexer": "ipython3",
   "version": "3.10.9"
  },
  "toc": {
   "base_numbering": 1,
   "nav_menu": {},
   "number_sections": true,
   "sideBar": true,
   "skip_h1_title": false,
   "title_cell": "Table of Contents",
   "title_sidebar": "Contents",
   "toc_cell": false,
   "toc_position": {},
   "toc_section_display": true,
   "toc_window_display": false
  }
 },
 "nbformat": 4,
 "nbformat_minor": 5
}
