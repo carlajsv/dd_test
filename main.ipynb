{
 "cells": [
  {
   "cell_type": "code",
   "execution_count": 1,
   "id": "689fc1d7",
   "metadata": {},
   "outputs": [],
   "source": [
    "import get_data_api as gda\n",
    "import data_enrichment as de\n",
    "import dim_tables as dim\n",
    "\n",
    "import clean as cl\n",
    "import transformation as tr\n",
    "import create_bbdd as db\n",
    "\n",
    "import pandas as pd"
   ]
  },
  {
   "cell_type": "code",
   "execution_count": null,
   "id": "d7cf28db",
   "metadata": {},
   "outputs": [],
   "source": []
  },
  {
   "cell_type": "code",
   "execution_count": 3,
   "id": "7434fd1b",
   "metadata": {},
   "outputs": [],
   "source": [
    "if __name__ == '__main__':\n",
    "    db.main()"
   ]
  },
  {
   "cell_type": "code",
   "execution_count": 4,
   "id": "a51eb56a",
   "metadata": {},
   "outputs": [],
   "source": [
    "#get data from API\n",
    "raw_users = gda.get_all_data('https://jsonplaceholder.typicode.com/users')"
   ]
  },
  {
   "cell_type": "code",
   "execution_count": 5,
   "id": "e93eda24",
   "metadata": {},
   "outputs": [],
   "source": [
    "#get bookings data\n",
    "raw_bookings = pd.read_csv('raw_bookings.csv', sep=';')"
   ]
  },
  {
   "cell_type": "code",
   "execution_count": 6,
   "id": "a4929579",
   "metadata": {},
   "outputs": [],
   "source": [
    "#create copy of raw_users\n",
    "users_complete = raw_users.copy()"
   ]
  },
  {
   "cell_type": "markdown",
   "id": "30b261d5",
   "metadata": {},
   "source": [
    "-Data enrichment-"
   ]
  },
  {
   "cell_type": "markdown",
   "id": "ee35c43c",
   "metadata": {},
   "source": [
    "Users data"
   ]
  },
  {
   "cell_type": "code",
   "execution_count": null,
   "id": "62e80403",
   "metadata": {},
   "outputs": [],
   "source": [
    "#enrich the user table to match the bookings table\n",
    "users_complete = de.random_users(43562, users_complete)"
   ]
  },
  {
   "cell_type": "code",
   "execution_count": 7,
   "id": "2a5c32cc",
   "metadata": {},
   "outputs": [],
   "source": [
    "#create copy of raw_users_complete\n",
    "raw_users_complete = users_complete.copy()"
   ]
  },
  {
   "cell_type": "code",
   "execution_count": 8,
   "id": "a5a05c48",
   "metadata": {},
   "outputs": [],
   "source": [
    "#create companies id in users df\n",
    "de.create_id(raw_users_complete, 'company_id')"
   ]
  },
  {
   "cell_type": "code",
   "execution_count": 9,
   "id": "c8b5aeed",
   "metadata": {},
   "outputs": [],
   "source": [
    "#keep only 60% of companies\n",
    "de.only_some_records(0.4, raw_users_complete, 'company_id', 'company')"
   ]
  },
  {
   "cell_type": "code",
   "execution_count": 11,
   "id": "21a3e006",
   "metadata": {},
   "outputs": [
    {
     "name": "stdout",
     "output_type": "stream",
     "text": [
      "<class 'pandas.core.frame.DataFrame'>\n",
      "RangeIndex: 10 entries, 0 to 9\n",
      "Data columns (total 9 columns):\n",
      " #   Column      Non-Null Count  Dtype  \n",
      "---  ------      --------------  -----  \n",
      " 0   id          10 non-null     int64  \n",
      " 1   name        10 non-null     object \n",
      " 2   username    10 non-null     object \n",
      " 3   email       10 non-null     object \n",
      " 4   address     10 non-null     object \n",
      " 5   phone       10 non-null     object \n",
      " 6   website     10 non-null     object \n",
      " 7   company     6 non-null      object \n",
      " 8   company_id  6 non-null      float64\n",
      "dtypes: float64(1), int64(1), object(7)\n",
      "memory usage: 848.0+ bytes\n"
     ]
    }
   ],
   "source": [
    "raw_users_complete.info()"
   ]
  },
  {
   "cell_type": "code",
   "execution_count": 10,
   "id": "c303b8a8",
   "metadata": {},
   "outputs": [
    {
     "ename": "InterfaceError",
     "evalue": "Error binding parameter 4 - probably unsupported type.",
     "output_type": "error",
     "traceback": [
      "\u001b[0;31m---------------------------------------------------------------------------\u001b[0m",
      "\u001b[0;31mInterfaceError\u001b[0m                            Traceback (most recent call last)",
      "Cell \u001b[0;32mIn[10], line 4\u001b[0m\n\u001b[1;32m      1\u001b[0m \u001b[38;5;66;03m#create table raw_users and create ddbb\u001b[39;00m\n\u001b[0;32m----> 4\u001b[0m \u001b[43mdb\u001b[49m\u001b[38;5;241;43m.\u001b[39;49m\u001b[43minsert_table_sql\u001b[49m\u001b[43m(\u001b[49m\u001b[43mraw_users_complete\u001b[49m\u001b[43m,\u001b[49m\u001b[43m \u001b[49m\u001b[38;5;124;43m'\u001b[39;49m\u001b[38;5;124;43mraw_users\u001b[39;49m\u001b[38;5;124;43m'\u001b[39;49m\u001b[43m,\u001b[49m\u001b[43m \u001b[49m\u001b[38;5;124;43m\"\u001b[39;49m\u001b[38;5;124;43m./bookings.db\u001b[39;49m\u001b[38;5;124;43m\"\u001b[39;49m\u001b[43m)\u001b[49m\n",
      "File \u001b[0;32m~/data_driven_project/data_driven_test/create_bbdd.py:191\u001b[0m, in \u001b[0;36minsert_table_sql\u001b[0;34m(table, name_sql_table, db_file)\u001b[0m\n\u001b[1;32m    189\u001b[0m conn \u001b[38;5;241m=\u001b[39m create_connection(db_file)\n\u001b[1;32m    190\u001b[0m table \u001b[38;5;241m=\u001b[39m table\u001b[38;5;241m.\u001b[39mfillna(\u001b[38;5;124m'\u001b[39m\u001b[38;5;124m'\u001b[39m)\n\u001b[0;32m--> 191\u001b[0m \u001b[43mtable\u001b[49m\u001b[38;5;241;43m.\u001b[39;49m\u001b[43mto_sql\u001b[49m\u001b[43m(\u001b[49m\u001b[43mname_sql_table\u001b[49m\u001b[43m,\u001b[49m\u001b[43m \u001b[49m\u001b[43mconn\u001b[49m\u001b[43m,\u001b[49m\u001b[43m \u001b[49m\u001b[43mif_exists\u001b[49m\u001b[38;5;241;43m=\u001b[39;49m\u001b[38;5;124;43m'\u001b[39;49m\u001b[38;5;124;43mappend\u001b[39;49m\u001b[38;5;124;43m'\u001b[39;49m\u001b[43m,\u001b[49m\u001b[43m \u001b[49m\u001b[43mindex\u001b[49m\u001b[43m \u001b[49m\u001b[38;5;241;43m=\u001b[39;49m\u001b[43m \u001b[49m\u001b[38;5;28;43;01mFalse\u001b[39;49;00m\u001b[43m)\u001b[49m\n",
      "File \u001b[0;32m~/miniconda3/lib/python3.10/site-packages/pandas/util/_decorators.py:333\u001b[0m, in \u001b[0;36mdeprecate_nonkeyword_arguments.<locals>.decorate.<locals>.wrapper\u001b[0;34m(*args, **kwargs)\u001b[0m\n\u001b[1;32m    327\u001b[0m \u001b[38;5;28;01mif\u001b[39;00m \u001b[38;5;28mlen\u001b[39m(args) \u001b[38;5;241m>\u001b[39m num_allow_args:\n\u001b[1;32m    328\u001b[0m     warnings\u001b[38;5;241m.\u001b[39mwarn(\n\u001b[1;32m    329\u001b[0m         msg\u001b[38;5;241m.\u001b[39mformat(arguments\u001b[38;5;241m=\u001b[39m_format_argument_list(allow_args)),\n\u001b[1;32m    330\u001b[0m         \u001b[38;5;167;01mFutureWarning\u001b[39;00m,\n\u001b[1;32m    331\u001b[0m         stacklevel\u001b[38;5;241m=\u001b[39mfind_stack_level(),\n\u001b[1;32m    332\u001b[0m     )\n\u001b[0;32m--> 333\u001b[0m \u001b[38;5;28;01mreturn\u001b[39;00m \u001b[43mfunc\u001b[49m\u001b[43m(\u001b[49m\u001b[38;5;241;43m*\u001b[39;49m\u001b[43margs\u001b[49m\u001b[43m,\u001b[49m\u001b[43m \u001b[49m\u001b[38;5;241;43m*\u001b[39;49m\u001b[38;5;241;43m*\u001b[39;49m\u001b[43mkwargs\u001b[49m\u001b[43m)\u001b[49m\n",
      "File \u001b[0;32m~/miniconda3/lib/python3.10/site-packages/pandas/core/generic.py:3008\u001b[0m, in \u001b[0;36mNDFrame.to_sql\u001b[0;34m(self, name, con, schema, if_exists, index, index_label, chunksize, dtype, method)\u001b[0m\n\u001b[1;32m   2813\u001b[0m \u001b[38;5;250m\u001b[39m\u001b[38;5;124;03m\"\"\"\u001b[39;00m\n\u001b[1;32m   2814\u001b[0m \u001b[38;5;124;03mWrite records stored in a DataFrame to a SQL database.\u001b[39;00m\n\u001b[1;32m   2815\u001b[0m \n\u001b[0;32m   (...)\u001b[0m\n\u001b[1;32m   3004\u001b[0m \u001b[38;5;124;03m[(1,), (None,), (2,)]\u001b[39;00m\n\u001b[1;32m   3005\u001b[0m \u001b[38;5;124;03m\"\"\"\u001b[39;00m  \u001b[38;5;66;03m# noqa: E501\u001b[39;00m\n\u001b[1;32m   3006\u001b[0m \u001b[38;5;28;01mfrom\u001b[39;00m \u001b[38;5;21;01mpandas\u001b[39;00m\u001b[38;5;21;01m.\u001b[39;00m\u001b[38;5;21;01mio\u001b[39;00m \u001b[38;5;28;01mimport\u001b[39;00m sql\n\u001b[0;32m-> 3008\u001b[0m \u001b[38;5;28;01mreturn\u001b[39;00m \u001b[43msql\u001b[49m\u001b[38;5;241;43m.\u001b[39;49m\u001b[43mto_sql\u001b[49m\u001b[43m(\u001b[49m\n\u001b[1;32m   3009\u001b[0m \u001b[43m    \u001b[49m\u001b[38;5;28;43mself\u001b[39;49m\u001b[43m,\u001b[49m\n\u001b[1;32m   3010\u001b[0m \u001b[43m    \u001b[49m\u001b[43mname\u001b[49m\u001b[43m,\u001b[49m\n\u001b[1;32m   3011\u001b[0m \u001b[43m    \u001b[49m\u001b[43mcon\u001b[49m\u001b[43m,\u001b[49m\n\u001b[1;32m   3012\u001b[0m \u001b[43m    \u001b[49m\u001b[43mschema\u001b[49m\u001b[38;5;241;43m=\u001b[39;49m\u001b[43mschema\u001b[49m\u001b[43m,\u001b[49m\n\u001b[1;32m   3013\u001b[0m \u001b[43m    \u001b[49m\u001b[43mif_exists\u001b[49m\u001b[38;5;241;43m=\u001b[39;49m\u001b[43mif_exists\u001b[49m\u001b[43m,\u001b[49m\n\u001b[1;32m   3014\u001b[0m \u001b[43m    \u001b[49m\u001b[43mindex\u001b[49m\u001b[38;5;241;43m=\u001b[39;49m\u001b[43mindex\u001b[49m\u001b[43m,\u001b[49m\n\u001b[1;32m   3015\u001b[0m \u001b[43m    \u001b[49m\u001b[43mindex_label\u001b[49m\u001b[38;5;241;43m=\u001b[39;49m\u001b[43mindex_label\u001b[49m\u001b[43m,\u001b[49m\n\u001b[1;32m   3016\u001b[0m \u001b[43m    \u001b[49m\u001b[43mchunksize\u001b[49m\u001b[38;5;241;43m=\u001b[39;49m\u001b[43mchunksize\u001b[49m\u001b[43m,\u001b[49m\n\u001b[1;32m   3017\u001b[0m \u001b[43m    \u001b[49m\u001b[43mdtype\u001b[49m\u001b[38;5;241;43m=\u001b[39;49m\u001b[43mdtype\u001b[49m\u001b[43m,\u001b[49m\n\u001b[1;32m   3018\u001b[0m \u001b[43m    \u001b[49m\u001b[43mmethod\u001b[49m\u001b[38;5;241;43m=\u001b[39;49m\u001b[43mmethod\u001b[49m\u001b[43m,\u001b[49m\n\u001b[1;32m   3019\u001b[0m \u001b[43m\u001b[49m\u001b[43m)\u001b[49m\n",
      "File \u001b[0;32m~/miniconda3/lib/python3.10/site-packages/pandas/io/sql.py:788\u001b[0m, in \u001b[0;36mto_sql\u001b[0;34m(frame, name, con, schema, if_exists, index, index_label, chunksize, dtype, method, engine, **engine_kwargs)\u001b[0m\n\u001b[1;32m    783\u001b[0m     \u001b[38;5;28;01mraise\u001b[39;00m \u001b[38;5;167;01mNotImplementedError\u001b[39;00m(\n\u001b[1;32m    784\u001b[0m         \u001b[38;5;124m\"\u001b[39m\u001b[38;5;124m'\u001b[39m\u001b[38;5;124mframe\u001b[39m\u001b[38;5;124m'\u001b[39m\u001b[38;5;124m argument should be either a Series or a DataFrame\u001b[39m\u001b[38;5;124m\"\u001b[39m\n\u001b[1;32m    785\u001b[0m     )\n\u001b[1;32m    787\u001b[0m \u001b[38;5;28;01mwith\u001b[39;00m pandasSQL_builder(con, schema\u001b[38;5;241m=\u001b[39mschema, need_transaction\u001b[38;5;241m=\u001b[39m\u001b[38;5;28;01mTrue\u001b[39;00m) \u001b[38;5;28;01mas\u001b[39;00m pandas_sql:\n\u001b[0;32m--> 788\u001b[0m     \u001b[38;5;28;01mreturn\u001b[39;00m \u001b[43mpandas_sql\u001b[49m\u001b[38;5;241;43m.\u001b[39;49m\u001b[43mto_sql\u001b[49m\u001b[43m(\u001b[49m\n\u001b[1;32m    789\u001b[0m \u001b[43m        \u001b[49m\u001b[43mframe\u001b[49m\u001b[43m,\u001b[49m\n\u001b[1;32m    790\u001b[0m \u001b[43m        \u001b[49m\u001b[43mname\u001b[49m\u001b[43m,\u001b[49m\n\u001b[1;32m    791\u001b[0m \u001b[43m        \u001b[49m\u001b[43mif_exists\u001b[49m\u001b[38;5;241;43m=\u001b[39;49m\u001b[43mif_exists\u001b[49m\u001b[43m,\u001b[49m\n\u001b[1;32m    792\u001b[0m \u001b[43m        \u001b[49m\u001b[43mindex\u001b[49m\u001b[38;5;241;43m=\u001b[39;49m\u001b[43mindex\u001b[49m\u001b[43m,\u001b[49m\n\u001b[1;32m    793\u001b[0m \u001b[43m        \u001b[49m\u001b[43mindex_label\u001b[49m\u001b[38;5;241;43m=\u001b[39;49m\u001b[43mindex_label\u001b[49m\u001b[43m,\u001b[49m\n\u001b[1;32m    794\u001b[0m \u001b[43m        \u001b[49m\u001b[43mschema\u001b[49m\u001b[38;5;241;43m=\u001b[39;49m\u001b[43mschema\u001b[49m\u001b[43m,\u001b[49m\n\u001b[1;32m    795\u001b[0m \u001b[43m        \u001b[49m\u001b[43mchunksize\u001b[49m\u001b[38;5;241;43m=\u001b[39;49m\u001b[43mchunksize\u001b[49m\u001b[43m,\u001b[49m\n\u001b[1;32m    796\u001b[0m \u001b[43m        \u001b[49m\u001b[43mdtype\u001b[49m\u001b[38;5;241;43m=\u001b[39;49m\u001b[43mdtype\u001b[49m\u001b[43m,\u001b[49m\n\u001b[1;32m    797\u001b[0m \u001b[43m        \u001b[49m\u001b[43mmethod\u001b[49m\u001b[38;5;241;43m=\u001b[39;49m\u001b[43mmethod\u001b[49m\u001b[43m,\u001b[49m\n\u001b[1;32m    798\u001b[0m \u001b[43m        \u001b[49m\u001b[43mengine\u001b[49m\u001b[38;5;241;43m=\u001b[39;49m\u001b[43mengine\u001b[49m\u001b[43m,\u001b[49m\n\u001b[1;32m    799\u001b[0m \u001b[43m        \u001b[49m\u001b[38;5;241;43m*\u001b[39;49m\u001b[38;5;241;43m*\u001b[39;49m\u001b[43mengine_kwargs\u001b[49m\u001b[43m,\u001b[49m\n\u001b[1;32m    800\u001b[0m \u001b[43m    \u001b[49m\u001b[43m)\u001b[49m\n",
      "File \u001b[0;32m~/miniconda3/lib/python3.10/site-packages/pandas/io/sql.py:2439\u001b[0m, in \u001b[0;36mSQLiteDatabase.to_sql\u001b[0;34m(self, frame, name, if_exists, index, index_label, schema, chunksize, dtype, method, engine, **engine_kwargs)\u001b[0m\n\u001b[1;32m   2429\u001b[0m table \u001b[38;5;241m=\u001b[39m SQLiteTable(\n\u001b[1;32m   2430\u001b[0m     name,\n\u001b[1;32m   2431\u001b[0m     \u001b[38;5;28mself\u001b[39m,\n\u001b[0;32m   (...)\u001b[0m\n\u001b[1;32m   2436\u001b[0m     dtype\u001b[38;5;241m=\u001b[39mdtype,\n\u001b[1;32m   2437\u001b[0m )\n\u001b[1;32m   2438\u001b[0m table\u001b[38;5;241m.\u001b[39mcreate()\n\u001b[0;32m-> 2439\u001b[0m \u001b[38;5;28;01mreturn\u001b[39;00m \u001b[43mtable\u001b[49m\u001b[38;5;241;43m.\u001b[39;49m\u001b[43minsert\u001b[49m\u001b[43m(\u001b[49m\u001b[43mchunksize\u001b[49m\u001b[43m,\u001b[49m\u001b[43m \u001b[49m\u001b[43mmethod\u001b[49m\u001b[43m)\u001b[49m\n",
      "File \u001b[0;32m~/miniconda3/lib/python3.10/site-packages/pandas/io/sql.py:1059\u001b[0m, in \u001b[0;36mSQLTable.insert\u001b[0;34m(self, chunksize, method)\u001b[0m\n\u001b[1;32m   1056\u001b[0m     \u001b[38;5;28;01mbreak\u001b[39;00m\n\u001b[1;32m   1058\u001b[0m chunk_iter \u001b[38;5;241m=\u001b[39m \u001b[38;5;28mzip\u001b[39m(\u001b[38;5;241m*\u001b[39m(arr[start_i:end_i] \u001b[38;5;28;01mfor\u001b[39;00m arr \u001b[38;5;129;01min\u001b[39;00m data_list))\n\u001b[0;32m-> 1059\u001b[0m num_inserted \u001b[38;5;241m=\u001b[39m \u001b[43mexec_insert\u001b[49m\u001b[43m(\u001b[49m\u001b[43mconn\u001b[49m\u001b[43m,\u001b[49m\u001b[43m \u001b[49m\u001b[43mkeys\u001b[49m\u001b[43m,\u001b[49m\u001b[43m \u001b[49m\u001b[43mchunk_iter\u001b[49m\u001b[43m)\u001b[49m\n\u001b[1;32m   1060\u001b[0m \u001b[38;5;66;03m# GH 46891\u001b[39;00m\n\u001b[1;32m   1061\u001b[0m \u001b[38;5;28;01mif\u001b[39;00m num_inserted \u001b[38;5;129;01mis\u001b[39;00m \u001b[38;5;129;01mnot\u001b[39;00m \u001b[38;5;28;01mNone\u001b[39;00m:\n",
      "File \u001b[0;32m~/miniconda3/lib/python3.10/site-packages/pandas/io/sql.py:2135\u001b[0m, in \u001b[0;36mSQLiteTable._execute_insert\u001b[0;34m(self, conn, keys, data_iter)\u001b[0m\n\u001b[1;32m   2133\u001b[0m \u001b[38;5;28;01mdef\u001b[39;00m \u001b[38;5;21m_execute_insert\u001b[39m(\u001b[38;5;28mself\u001b[39m, conn, keys, data_iter) \u001b[38;5;241m-\u001b[39m\u001b[38;5;241m>\u001b[39m \u001b[38;5;28mint\u001b[39m:\n\u001b[1;32m   2134\u001b[0m     data_list \u001b[38;5;241m=\u001b[39m \u001b[38;5;28mlist\u001b[39m(data_iter)\n\u001b[0;32m-> 2135\u001b[0m     \u001b[43mconn\u001b[49m\u001b[38;5;241;43m.\u001b[39;49m\u001b[43mexecutemany\u001b[49m\u001b[43m(\u001b[49m\u001b[38;5;28;43mself\u001b[39;49m\u001b[38;5;241;43m.\u001b[39;49m\u001b[43minsert_statement\u001b[49m\u001b[43m(\u001b[49m\u001b[43mnum_rows\u001b[49m\u001b[38;5;241;43m=\u001b[39;49m\u001b[38;5;241;43m1\u001b[39;49m\u001b[43m)\u001b[49m\u001b[43m,\u001b[49m\u001b[43m \u001b[49m\u001b[43mdata_list\u001b[49m\u001b[43m)\u001b[49m\n\u001b[1;32m   2136\u001b[0m     \u001b[38;5;28;01mreturn\u001b[39;00m conn\u001b[38;5;241m.\u001b[39mrowcount\n",
      "\u001b[0;31mInterfaceError\u001b[0m: Error binding parameter 4 - probably unsupported type."
     ]
    }
   ],
   "source": [
    "#create table raw_users and create ddbb\n",
    "\n",
    "\n",
    "db.insert_table_sql(raw_users_complete, 'raw_users', \"./bookings.db\")"
   ]
  },
  {
   "cell_type": "markdown",
   "id": "19ab5704",
   "metadata": {},
   "source": [
    "Bookings data"
   ]
  },
  {
   "cell_type": "code",
   "execution_count": null,
   "id": "4ee04ffe",
   "metadata": {},
   "outputs": [],
   "source": [
    "#add booking codes to all bookings\n",
    "raw_bookings_complete = de.create_booking_id(raw_bookings)"
   ]
  },
  {
   "cell_type": "code",
   "execution_count": null,
   "id": "704c3ba7",
   "metadata": {},
   "outputs": [],
   "source": [
    "#add users_id to all bookings\n",
    "de.create_id(raw_bookings_complete, 'user_id', len(raw_users_complete))"
   ]
  },
  {
   "cell_type": "code",
   "execution_count": null,
   "id": "1d9b1e4d",
   "metadata": {},
   "outputs": [],
   "source": [
    "raw_bookings_complete"
   ]
  },
  {
   "cell_type": "code",
   "execution_count": null,
   "id": "fc6acf21",
   "metadata": {},
   "outputs": [],
   "source": [
    "#save raw data\n",
    "raw_bookings_complete.to_csv('raw_bookings_extended.csv', index=False)\n",
    "\n",
    "raw_users_complete.to_csv('raw_users_extended.csv', index=False)"
   ]
  },
  {
   "cell_type": "code",
   "execution_count": null,
   "id": "72dcc428",
   "metadata": {},
   "outputs": [],
   "source": [
    "#raw_bookings = pd.read_csv('raw_bookings_extended.csv')"
   ]
  },
  {
   "cell_type": "code",
   "execution_count": null,
   "id": "c6a04c69",
   "metadata": {},
   "outputs": [],
   "source": [
    "#raw_users_complete = pd.read_csv('raw_users_extended.csv')"
   ]
  },
  {
   "cell_type": "markdown",
   "id": "46297f68",
   "metadata": {},
   "source": [
    "-Create dimension tables- "
   ]
  },
  {
   "cell_type": "code",
   "execution_count": null,
   "id": "2d55de2c",
   "metadata": {},
   "outputs": [],
   "source": [
    "#Create dimension agents\n",
    "DIM_AGENTS = dim.create_dim_agent_table()"
   ]
  },
  {
   "cell_type": "code",
   "execution_count": null,
   "id": "2ca309e9",
   "metadata": {},
   "outputs": [],
   "source": [
    "#Create dimension countries\n",
    "DIM_COUNTRIES = dim.create_dim_country_table()"
   ]
  },
  {
   "cell_type": "code",
   "execution_count": null,
   "id": "39a27755",
   "metadata": {},
   "outputs": [],
   "source": [
    "#Create dimension meals\n",
    "DIM_MEALS = dim.create_dim_meal_table()"
   ]
  },
  {
   "cell_type": "code",
   "execution_count": null,
   "id": "b635e07a",
   "metadata": {},
   "outputs": [],
   "source": [
    "#Create dimension hotels\n",
    "DIM_HOTELS = dim.create_dim_hotel_table()"
   ]
  },
  {
   "cell_type": "code",
   "execution_count": null,
   "id": "deaee2c0",
   "metadata": {},
   "outputs": [],
   "source": [
    "#Create dimension users without transformation\n",
    "DIM_USERS_WT = dim.create_dim_users_table(raw_users_complete)"
   ]
  },
  {
   "cell_type": "code",
   "execution_count": null,
   "id": "99c55124",
   "metadata": {},
   "outputs": [],
   "source": [
    "#Create dimension companies without transformation\n",
    "DIM_COMPANIES_WT = dim.create_dim_companies_table(raw_users_complete)"
   ]
  },
  {
   "cell_type": "markdown",
   "id": "d41c6f8d",
   "metadata": {},
   "source": [
    "-Transformation-"
   ]
  },
  {
   "cell_type": "markdown",
   "id": "78350b33",
   "metadata": {},
   "source": [
    "Users"
   ]
  },
  {
   "cell_type": "code",
   "execution_count": null,
   "id": "e4555225",
   "metadata": {},
   "outputs": [],
   "source": [
    "#delete unnecessary columns\n",
    "DIM_USERS = tr.delete_columns(DIM_USERS_WT, ['username'])"
   ]
  },
  {
   "cell_type": "code",
   "execution_count": null,
   "id": "a213a900",
   "metadata": {},
   "outputs": [],
   "source": [
    "#lowercase some columns\n",
    "DIM_USERS = tr.lowercase(DIM_USERS, ['email', 'website'])"
   ]
  },
  {
   "cell_type": "code",
   "execution_count": null,
   "id": "2b8f9f28",
   "metadata": {},
   "outputs": [],
   "source": [
    "#capitalize column names and change them to standardized ones\n",
    "DIM_USERS =  tr.capitalize_rename_columns(DIM_USERS, ['USER_ID', 'USER_NAME', 'USER_EMAIL','USER_ADDRESS', 'USER_PHONE', 'USER_WEBSITE', 'COMPANY_ID'])"
   ]
  },
  {
   "cell_type": "code",
   "execution_count": null,
   "id": "68555a49",
   "metadata": {},
   "outputs": [],
   "source": [
    "#cast company_id column to int\n",
    "DIM_USERS = tr.cast_column_to_dtype(DIM_USERS,'COMPANY_ID', 'Int64')"
   ]
  },
  {
   "cell_type": "code",
   "execution_count": null,
   "id": "f38a0ffa",
   "metadata": {},
   "outputs": [],
   "source": [
    "DIM_USERS"
   ]
  },
  {
   "cell_type": "markdown",
   "id": "cd402aa9",
   "metadata": {},
   "source": [
    "Companies"
   ]
  },
  {
   "cell_type": "code",
   "execution_count": null,
   "id": "4819a54a",
   "metadata": {},
   "outputs": [],
   "source": [
    "#Delete rows containing NaN values\n",
    "DIM_COMPANIES = tr.drop_nan_rows(DIM_COMPANIES_WT)"
   ]
  },
  {
   "cell_type": "code",
   "execution_count": null,
   "id": "cbfe56c8",
   "metadata": {},
   "outputs": [],
   "source": [
    "#normalize company column\n",
    "DIM_COMPANIES = tr.normalize_column(DIM_COMPANIES, ['company'])"
   ]
  },
  {
   "cell_type": "code",
   "execution_count": null,
   "id": "288cb985",
   "metadata": {},
   "outputs": [],
   "source": [
    "#delete unnecessary columns for analysis\n",
    "DIM_COMPANIES = tr.delete_columns(DIM_COMPANIES, ['catchPhrase', 'bs'])"
   ]
  },
  {
   "cell_type": "code",
   "execution_count": null,
   "id": "b84681c3",
   "metadata": {},
   "outputs": [],
   "source": [
    "#capitalize column names and change them to standardized ones\n",
    "DIM_COMPANIES = tr.capitalize_rename_columns(DIM_COMPANIES, columns = ['COMPANY_ID', 'USER_ID','COMPANY_NAME'])"
   ]
  },
  {
   "cell_type": "code",
   "execution_count": null,
   "id": "6eb2c2b0",
   "metadata": {},
   "outputs": [],
   "source": [
    "#lowercase COMPANY_NAME column\n",
    "DIM_COMPANIES = tr.lowercase(DIM_COMPANIES, ['COMPANY_NAME'])"
   ]
  },
  {
   "cell_type": "code",
   "execution_count": null,
   "id": "0cd695a9",
   "metadata": {},
   "outputs": [],
   "source": [
    "#cast company_id column to int\n",
    "DIM_COMPANIES = tr.cast_column_to_dtype(DIM_COMPANIES,'COMPANY_ID', 'Int64')"
   ]
  },
  {
   "cell_type": "code",
   "execution_count": null,
   "id": "7715a9e1",
   "metadata": {},
   "outputs": [],
   "source": [
    "#sort column by company ids \n",
    "DIM_COMPANIES = DIM_COMPANIES.sort_values(by=['COMPANY_ID']).reset_index(drop=True)"
   ]
  },
  {
   "cell_type": "code",
   "execution_count": null,
   "id": "b12a5bc3",
   "metadata": {},
   "outputs": [],
   "source": [
    "DIM_COMPANIES"
   ]
  },
  {
   "cell_type": "markdown",
   "id": "8b506990",
   "metadata": {},
   "source": [
    "Bookings"
   ]
  },
  {
   "cell_type": "code",
   "execution_count": null,
   "id": "195fab98",
   "metadata": {},
   "outputs": [],
   "source": [
    "#Replace the name of the hotels by their ids\n",
    "BOOKINGS = tr.map_dimension_table(raw_bookings_complete,DIM_HOTELS,'hotel','HOTEL_ID','HOTEL_NAME')"
   ]
  },
  {
   "cell_type": "code",
   "execution_count": null,
   "id": "f2e4880e",
   "metadata": {},
   "outputs": [],
   "source": [
    "#cast agents column to int\n",
    "BOOKINGS = tr.cast_column_to_dtype(BOOKINGS,'agent', 'Int64')"
   ]
  },
  {
   "cell_type": "code",
   "execution_count": null,
   "id": "16dba657",
   "metadata": {},
   "outputs": [],
   "source": [
    "#create a arrival date column\n",
    "tr.create_arrival_date(BOOKINGS, 'arrival_date_day_of_month', 'arrival_date_month', 'arrival_date_year')"
   ]
  },
  {
   "cell_type": "code",
   "execution_count": null,
   "id": "d846e9bd",
   "metadata": {},
   "outputs": [],
   "source": [
    "#create a departure date column\n",
    "tr.get_departure_date(BOOKINGS)"
   ]
  },
  {
   "cell_type": "code",
   "execution_count": null,
   "id": "4b173b82",
   "metadata": {},
   "outputs": [],
   "source": [
    "#create a reservation date column\n",
    "tr.reservation_date(BOOKINGS)"
   ]
  },
  {
   "cell_type": "code",
   "execution_count": null,
   "id": "d7e5600a",
   "metadata": {},
   "outputs": [],
   "source": [
    "drop_columns = ['is_canceled', 'lead_time',\n",
    "       'arrival_date_year', 'arrival_date_month', 'arrival_date_day_of_month',\n",
    "       'stays_in_weekend_nights', 'stays_in_week_nights','is_repeated_guest', 'previous_cancellations',\n",
    "       'previous_bookings_not_canceled']\n",
    "\n",
    "#delete unnecessary columns for analysis\n",
    "BOOKINGS = tr.delete_columns(BOOKINGS, drop_columns)"
   ]
  },
  {
   "cell_type": "code",
   "execution_count": null,
   "id": "eb679377",
   "metadata": {},
   "outputs": [],
   "source": [
    "rename_columns = ['BOOKING_CODE', 'HOTEL_ID', 'ADULTS', 'CHILDREN', 'MEAL_ID', 'COUNTRY_ID',\n",
    "       'RESERVED_ROOM_TYPE', 'ASSIGNED_ROOM_TYPE', 'AGENT_ID',\n",
    "       'STATUS', 'LAST_UPDATED_AT', 'USER_ID',\n",
    "       'ARRIVAL_DATE', 'DEPARTURE_DATE', 'RESERVATION_DATE']\n",
    "\n",
    "#capitalize column names and change them to standardized ones\n",
    "BOOKINGS = tr.capitalize_rename_columns(BOOKINGS, rename_columns)"
   ]
  },
  {
   "cell_type": "code",
   "execution_count": null,
   "id": "583d6f53",
   "metadata": {},
   "outputs": [],
   "source": [
    "#cast LAST_UPDATED_AT column to datetime\n",
    "BOOKINGS['LAST_UPDATED_AT'] = pd.to_datetime(BOOKINGS['LAST_UPDATED_AT'], format='%d/%m/%Y')"
   ]
  },
  {
   "cell_type": "code",
   "execution_count": null,
   "id": "6368cc86",
   "metadata": {},
   "outputs": [],
   "source": [
    "reorder_columns = [\n",
    " 'BOOKING_CODE',\n",
    " 'USER_ID',\n",
    " 'COUNTRY_ID',\n",
    " 'AGENT_ID',\n",
    " 'HOTEL_ID',\n",
    " 'ADULTS',\n",
    " 'CHILDREN',\n",
    " 'MEAL_ID',\n",
    " 'RESERVED_ROOM_TYPE',\n",
    " 'ASSIGNED_ROOM_TYPE',\n",
    " 'STATUS',\n",
    " 'LAST_UPDATED_AT',\n",
    " 'ARRIVAL_DATE',\n",
    " 'DEPARTURE_DATE',\n",
    " 'RESERVATION_DATE'\n",
    "]\n",
    "\n",
    "#reorder columns\n",
    "BOOKINGS = BOOKINGS[reorder_columns]"
   ]
  },
  {
   "cell_type": "code",
   "execution_count": null,
   "id": "17a56229",
   "metadata": {},
   "outputs": [],
   "source": [
    "BOOKINGS"
   ]
  },
  {
   "cell_type": "markdown",
   "id": "606fccc7",
   "metadata": {},
   "source": [
    "-Clean data- "
   ]
  },
  {
   "cell_type": "code",
   "execution_count": null,
   "id": "043e9697",
   "metadata": {},
   "outputs": [],
   "source": [
    "#put the prefix 'http://' in front of the websites that do not have it\n",
    "DIM_USERS['USER_WEBSITE'] = DIM_USERS['USER_WEBSITE'].apply(cl.add_https)"
   ]
  },
  {
   "cell_type": "code",
   "execution_count": null,
   "id": "bf7527cf",
   "metadata": {},
   "outputs": [],
   "source": [
    "#remove 'mrs.' from USER_NAME\n",
    "DIM_USERS['USER_NAME'] = DIM_USERS['USER_NAME'].str.replace('mrs. ','', regex = False)"
   ]
  },
  {
   "cell_type": "code",
   "execution_count": null,
   "id": "a61993d2",
   "metadata": {},
   "outputs": [],
   "source": [
    "DIM_USERS"
   ]
  },
  {
   "cell_type": "code",
   "execution_count": null,
   "id": "ea208ed5",
   "metadata": {},
   "outputs": [],
   "source": []
  },
  {
   "cell_type": "code",
   "execution_count": null,
   "id": "6f2e793b",
   "metadata": {},
   "outputs": [],
   "source": []
  },
  {
   "cell_type": "code",
   "execution_count": null,
   "id": "9881ee4e",
   "metadata": {},
   "outputs": [],
   "source": []
  },
  {
   "cell_type": "code",
   "execution_count": null,
   "id": "95f0c8cd",
   "metadata": {},
   "outputs": [],
   "source": [
    "def db():\n",
    "    return sqlite3.connect('./bookings.db')\n",
    "\n",
    "def create_table(table, name_sql_table):\n",
    "    conn = db()\n",
    "    table.to_sql(name_sql_table, conn, if_exists='replace', index = False)"
   ]
  },
  {
   "cell_type": "code",
   "execution_count": null,
   "id": "39694b50",
   "metadata": {},
   "outputs": [],
   "source": [
    "create_table(BOOKINGS, 'BOOKINGS')"
   ]
  },
  {
   "cell_type": "code",
   "execution_count": null,
   "id": "ed2139e1",
   "metadata": {},
   "outputs": [],
   "source": [
    "import sqlite3\n",
    "conn = sqlite3.connect('./bookings.db')\n",
    "BOOKINGS.to_sql('BOOKINGS', conn, if_exists='replace', index=False)\n",
    "pd.read_sql('select * from BOOKINGS', conn)"
   ]
  },
  {
   "cell_type": "code",
   "execution_count": null,
   "id": "ca3bb58b",
   "metadata": {},
   "outputs": [],
   "source": [
    "from sqlite3 import Error\n",
    "cursor = conn.cursor()\n",
    "try:\n",
    "    sql_del = cursor.execute(\"DELETE FROM BOOKINGS\")\n",
    "    conn.commit()\n",
    "except Error as e:\n",
    "    print(f\"Oops! Something went wrong. Error: {e}\")\n",
    "    # reverse the change in case of error\n",
    "    conn.rollback()"
   ]
  },
  {
   "cell_type": "code",
   "execution_count": null,
   "id": "ba602b34",
   "metadata": {},
   "outputs": [],
   "source": []
  },
  {
   "cell_type": "code",
   "execution_count": null,
   "id": "57510a7c",
   "metadata": {},
   "outputs": [],
   "source": []
  }
 ],
 "metadata": {
  "kernelspec": {
   "display_name": "Python 3 (ipykernel)",
   "language": "python",
   "name": "python3"
  },
  "language_info": {
   "codemirror_mode": {
    "name": "ipython",
    "version": 3
   },
   "file_extension": ".py",
   "mimetype": "text/x-python",
   "name": "python",
   "nbconvert_exporter": "python",
   "pygments_lexer": "ipython3",
   "version": "3.10.9"
  },
  "toc": {
   "base_numbering": 1,
   "nav_menu": {},
   "number_sections": true,
   "sideBar": true,
   "skip_h1_title": false,
   "title_cell": "Table of Contents",
   "title_sidebar": "Contents",
   "toc_cell": false,
   "toc_position": {},
   "toc_section_display": true,
   "toc_window_display": false
  }
 },
 "nbformat": 4,
 "nbformat_minor": 5
}
