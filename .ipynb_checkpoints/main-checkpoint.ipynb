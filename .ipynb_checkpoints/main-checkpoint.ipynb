{
 "cells": [
  {
   "cell_type": "code",
   "execution_count": 3,
   "id": "6a82b36e",
   "metadata": {},
   "outputs": [
    {
     "name": "stdout",
     "output_type": "stream",
     "text": [
      "Requirement already satisfied: faker in /Users/carlasanchezvalles/miniconda3/lib/python3.10/site-packages (20.1.0)\r\n",
      "Requirement already satisfied: python-dateutil>=2.4 in /Users/carlasanchezvalles/miniconda3/lib/python3.10/site-packages (from faker) (2.8.2)\r\n",
      "Requirement already satisfied: six>=1.5 in /Users/carlasanchezvalles/miniconda3/lib/python3.10/site-packages (from python-dateutil>=2.4->faker) (1.16.0)\r\n"
     ]
    }
   ],
   "source": [
    "!pip install faker"
   ]
  },
  {
   "cell_type": "code",
   "execution_count": 2,
   "id": "d80be9f5",
   "metadata": {},
   "outputs": [
    {
     "ename": "ModuleNotFoundError",
     "evalue": "No module named 'faker'",
     "output_type": "error",
     "traceback": [
      "\u001b[0;31m---------------------------------------------------------------------------\u001b[0m",
      "\u001b[0;31mModuleNotFoundError\u001b[0m                       Traceback (most recent call last)",
      "Input \u001b[0;32mIn [2]\u001b[0m, in \u001b[0;36m<cell line: 3>\u001b[0;34m()\u001b[0m\n\u001b[1;32m      1\u001b[0m \u001b[38;5;28;01mimport\u001b[39;00m \u001b[38;5;21;01mpandas\u001b[39;00m \u001b[38;5;28;01mas\u001b[39;00m \u001b[38;5;21;01mpd\u001b[39;00m\n\u001b[1;32m      2\u001b[0m \u001b[38;5;28;01mimport\u001b[39;00m \u001b[38;5;21;01mrequests\u001b[39;00m\n\u001b[0;32m----> 3\u001b[0m \u001b[38;5;28;01mfrom\u001b[39;00m \u001b[38;5;21;01mfaker\u001b[39;00m \u001b[38;5;28;01mimport\u001b[39;00m Faker\n",
      "\u001b[0;31mModuleNotFoundError\u001b[0m: No module named 'faker'"
     ]
    }
   ],
   "source": [
    "import pandas as pd\n",
    "import requests\n",
    "from faker import Faker\n",
    "#import src"
   ]
  },
  {
   "cell_type": "markdown",
   "id": "57fd9637",
   "metadata": {},
   "source": [
    "### USERS SOURCE (API)"
   ]
  },
  {
   "cell_type": "code",
   "execution_count": null,
   "id": "957898d1",
   "metadata": {},
   "outputs": [],
   "source": [
    "#get data from API and save it\n",
    "raw_users = src.get_save_data('https://jsonplaceholder.typicode.com/users', 'raw_users.csv')"
   ]
  },
  {
   "cell_type": "code",
   "execution_count": null,
   "id": "86c99374",
   "metadata": {},
   "outputs": [],
   "source": [
    "list_columns_norm = ['address', 'company']\n",
    "#normalize and delete some columns\n",
    "users_df = src.normalize_column(raw_users, list_columns_norm)\n",
    "\n",
    "list_columns_rename = ['user_id', 'user_name', 'user_username', 'user_email', 'user_phone', 'website', 'user_street', 'user_suite', 'user_city', 'user_zipcode', 'user_lat', 'user_lng', 'company_name', 'company_catchPhrase', 'company_bs']\n",
    "#Rename and capitalize all columns\n",
    "users_df = src.capitalize_rename_columns(users_df, list_columns_rename)\n",
    "\n",
    "#put lowercase all data\n",
    "users_df = src.lowercase(users_df)\n",
    "\n",
    "#Remove special characters from a phone column\n",
    "src.remove_chars(users_df, 'USER_PHONE')\n",
    "\n",
    "#remove 'mrs.' from USER_NAME\n",
    "users_df['USER_NAME'] = users_df['USER_NAME'].str.replace('mrs. ','', regex = False)"
   ]
  },
  {
   "cell_type": "code",
   "execution_count": null,
   "id": "10a4f8f1",
   "metadata": {},
   "outputs": [],
   "source": [
    "#divide users_df in two df: users data and users company\n",
    "users = users_df.iloc[:,:12]\n",
    "\n",
    "users_company= pd.concat([users_df['USER_ID'],users_df.iloc[:,12:]], axis=1)\n"
   ]
  },
  {
   "cell_type": "code",
   "execution_count": null,
   "id": "e5021d36",
   "metadata": {},
   "outputs": [],
   "source": [
    "users.columns"
   ]
  },
  {
   "cell_type": "code",
   "execution_count": null,
   "id": "4b8f36b9",
   "metadata": {},
   "outputs": [],
   "source": [
    "users_company"
   ]
  },
  {
   "cell_type": "code",
   "execution_count": null,
   "id": "8f4faf75",
   "metadata": {},
   "outputs": [],
   "source": [
    "users_extended = src.random_users(55000, users)"
   ]
  },
  {
   "cell_type": "markdown",
   "id": "271e8afe",
   "metadata": {},
   "source": [
    "### BOOKINGS SOURCE"
   ]
  },
  {
   "cell_type": "code",
   "execution_count": null,
   "id": "7eaaa1bd",
   "metadata": {},
   "outputs": [],
   "source": [
    "#read second source\n",
    "reservas_df= pd.read_csv('reservasHotel.csv', sep=';')\n",
    "reservas_df"
   ]
  },
  {
   "cell_type": "code",
   "execution_count": null,
   "id": "58c988b4",
   "metadata": {},
   "outputs": [],
   "source": [
    "list_columns_r = ['hotel', 'canceled', 'lead_time', 'arrival_year','arrival_month', 'arrival_day','stays_in_weekend_nights', 'stays_week_nights', 'adults', 'children','meal', 'country', 'repeated_guest', 'previous_cancellations','previous_bookings_not_canceled','reserved_room_type','assigned_room_type', 'agent', 'reservation_status','reservation_status_date']\n",
    "\n",
    "#Rename and capitalize all columns\n",
    "reservas_df = src.capitalize_rename_columns(reservas_df, list_columns_r)"
   ]
  },
  {
   "cell_type": "code",
   "execution_count": null,
   "id": "bb8aba32",
   "metadata": {},
   "outputs": [],
   "source": [
    "reservas_df"
   ]
  },
  {
   "cell_type": "code",
   "execution_count": null,
   "id": "bde3b7f9",
   "metadata": {},
   "outputs": [],
   "source": [
    "\n",
    "\n"
   ]
  }
 ],
 "metadata": {
  "kernelspec": {
   "display_name": "Python 3 (ipykernel)",
   "language": "python",
   "name": "python3"
  },
  "language_info": {
   "codemirror_mode": {
    "name": "ipython",
    "version": 3
   },
   "file_extension": ".py",
   "mimetype": "text/x-python",
   "name": "python",
   "nbconvert_exporter": "python",
   "pygments_lexer": "ipython3",
   "version": "3.9.7"
  },
  "toc": {
   "base_numbering": 1,
   "nav_menu": {},
   "number_sections": true,
   "sideBar": true,
   "skip_h1_title": false,
   "title_cell": "Table of Contents",
   "title_sidebar": "Contents",
   "toc_cell": false,
   "toc_position": {},
   "toc_section_display": true,
   "toc_window_display": false
  }
 },
 "nbformat": 4,
 "nbformat_minor": 5
}
