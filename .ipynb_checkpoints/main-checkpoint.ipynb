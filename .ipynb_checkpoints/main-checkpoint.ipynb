{
 "cells": [
  {
   "cell_type": "code",
   "execution_count": null,
   "id": "689fc1d7",
   "metadata": {},
   "outputs": [],
   "source": [
    "import get_data_api as gda\n",
    "import data_enrichment as de\n",
    "import dim_tables as dim\n",
    "\n",
    "import clean as cl\n",
    "import transformation as tr\n",
    "import create_bbdd as db\n",
    "import pandas as pd"
   ]
  },
  {
   "cell_type": "markdown",
   "id": "1fddf9de",
   "metadata": {},
   "source": [
    "## -Create db-"
   ]
  },
  {
   "cell_type": "code",
   "execution_count": null,
   "id": "7434fd1b",
   "metadata": {},
   "outputs": [],
   "source": [
    "#Create ddbb and tables to fill\n",
    "db.main()"
   ]
  },
  {
   "cell_type": "markdown",
   "id": "c5f9a590",
   "metadata": {},
   "source": [
    "## -Get data-"
   ]
  },
  {
   "cell_type": "code",
   "execution_count": null,
   "id": "a51eb56a",
   "metadata": {},
   "outputs": [],
   "source": [
    "#get data from API\n",
    "raw_users = gda.get_all_data('https://jsonplaceholder.typicode.com/users')"
   ]
  },
  {
   "cell_type": "code",
   "execution_count": null,
   "id": "e93eda24",
   "metadata": {},
   "outputs": [],
   "source": [
    "#get bookings data\n",
    "raw_bookings = pd.read_csv('raw_bookings.csv', sep=';')"
   ]
  },
  {
   "cell_type": "code",
   "execution_count": null,
   "id": "a4929579",
   "metadata": {},
   "outputs": [],
   "source": [
    "#create copy of raw_users\n",
    "users_complete = raw_users.copy()"
   ]
  },
  {
   "cell_type": "markdown",
   "id": "30b261d5",
   "metadata": {},
   "source": [
    "## -Data enrichment-"
   ]
  },
  {
   "cell_type": "markdown",
   "id": "ee35c43c",
   "metadata": {},
   "source": [
    "### Users data"
   ]
  },
  {
   "cell_type": "code",
   "execution_count": null,
   "id": "62e80403",
   "metadata": {},
   "outputs": [],
   "source": [
    "#enrich the user table to match the bookings table\n",
    "users_complete = de.random_users(43562, users_complete)"
   ]
  },
  {
   "cell_type": "code",
   "execution_count": null,
   "id": "a5a05c48",
   "metadata": {},
   "outputs": [],
   "source": [
    "#create companies id in users df\n",
    "de.create_id(users_complete, 'company_id')"
   ]
  },
  {
   "cell_type": "code",
   "execution_count": null,
   "id": "c8b5aeed",
   "metadata": {},
   "outputs": [],
   "source": [
    "#keep only 60% of companies\n",
    "de.only_some_records(0.4, users_complete, 'company_id', 'company')"
   ]
  },
  {
   "cell_type": "code",
   "execution_count": null,
   "id": "2870c186",
   "metadata": {},
   "outputs": [],
   "source": [
    "#create copy of raw_users_complete\n",
    "raw_users_complete = users_complete.copy()"
   ]
  },
  {
   "cell_type": "code",
   "execution_count": null,
   "id": "e67cc3f6",
   "metadata": {},
   "outputs": [],
   "source": [
    "#cast objects columns for fill tables in sql\n",
    "list_columns = ['name', 'username', 'email', 'address', 'phone', 'website', 'company']\n",
    "for i in list_columns:\n",
    "    raw_users_complete = tr.cast_column_to_dtype(raw_users_complete, i, str)\n",
    "    "
   ]
  },
  {
   "cell_type": "code",
   "execution_count": null,
   "id": "fff5c360",
   "metadata": {},
   "outputs": [],
   "source": [
    "#insert raw_users_complete data in raw_users sqlite table\n",
    "db.insert_table_sql(raw_users_complete, 'raw_users', \"./dd_test.db\")"
   ]
  },
  {
   "cell_type": "markdown",
   "id": "19ab5704",
   "metadata": {},
   "source": [
    "### Bookings data"
   ]
  },
  {
   "cell_type": "code",
   "execution_count": null,
   "id": "4ee04ffe",
   "metadata": {},
   "outputs": [],
   "source": [
    "#add booking codes to all bookings\n",
    "raw_bookings_complete = de.create_booking_id(raw_bookings)"
   ]
  },
  {
   "cell_type": "code",
   "execution_count": null,
   "id": "704c3ba7",
   "metadata": {},
   "outputs": [],
   "source": [
    "#add users_id to all bookings\n",
    "de.create_id(raw_bookings_complete, 'user_id', len(raw_users_complete))"
   ]
  },
  {
   "cell_type": "code",
   "execution_count": null,
   "id": "d6f105fd",
   "metadata": {},
   "outputs": [],
   "source": [
    "#cast objects columns for fill tables in sql\n",
    "list_columns = ['booking_code', 'hotel', 'arrival_date_month', \n",
    "                'meal', 'country', 'reserved_room_type','assigned_room_type',\n",
    "                'reservation_status','reservation_status_date']\n",
    "for i in list_columns:\n",
    "    raw_bookings_complete = tr.cast_column_to_dtype(raw_bookings_complete, i, str)"
   ]
  },
  {
   "cell_type": "code",
   "execution_count": null,
   "id": "7e55843c",
   "metadata": {},
   "outputs": [],
   "source": [
    "#insert raw_users_complete data in raw_bookings sqlite table\n",
    "db.insert_table_sql(raw_bookings_complete, 'raw_bookings', \"./dd_test.db\")"
   ]
  },
  {
   "cell_type": "markdown",
   "id": "2735597f",
   "metadata": {},
   "source": [
    "## -Save raw data-"
   ]
  },
  {
   "cell_type": "code",
   "execution_count": null,
   "id": "fc6acf21",
   "metadata": {},
   "outputs": [],
   "source": [
    "#save raw data\n",
    "raw_bookings_complete.to_csv('raw_bookings_extended.csv', index=False)\n",
    "\n",
    "raw_users_complete.to_csv('raw_users_extended.csv', index=False)"
   ]
  },
  {
   "cell_type": "code",
   "execution_count": null,
   "id": "b4a628ae",
   "metadata": {},
   "outputs": [],
   "source": [
    "raw_users_complete"
   ]
  },
  {
   "cell_type": "markdown",
   "id": "46297f68",
   "metadata": {},
   "source": [
    "## -Create dimension tables- "
   ]
  },
  {
   "cell_type": "code",
   "execution_count": null,
   "id": "2d55de2c",
   "metadata": {},
   "outputs": [],
   "source": [
    "#Create dimension agents\n",
    "DIM_AGENTS = dim.create_dim_agent_table()"
   ]
  },
  {
   "cell_type": "code",
   "execution_count": null,
   "id": "425b4ef7",
   "metadata": {},
   "outputs": [],
   "source": [
    "#insert DIM_AGENTS data in DIM_AGENTS sqlite table\n",
    "db.insert_table_sql(DIM_AGENTS, 'DIM_AGENTS', \"./dd_test.db\")"
   ]
  },
  {
   "cell_type": "code",
   "execution_count": null,
   "id": "2ca309e9",
   "metadata": {},
   "outputs": [],
   "source": [
    "#Create dimension countries\n",
    "DIM_COUNTRIES = dim.create_dim_country_table()"
   ]
  },
  {
   "cell_type": "code",
   "execution_count": null,
   "id": "b9832bcd",
   "metadata": {},
   "outputs": [],
   "source": [
    "#insert DIM_COUNTRIES data in DIM_COUNTRIES sqlite table\n",
    "db.insert_table_sql(DIM_COUNTRIES, 'DIM_COUNTRIES', \"./dd_test.db\")"
   ]
  },
  {
   "cell_type": "code",
   "execution_count": null,
   "id": "39a27755",
   "metadata": {},
   "outputs": [],
   "source": [
    "#Create dimension meals\n",
    "DIM_MEALS = dim.create_dim_meal_table()"
   ]
  },
  {
   "cell_type": "code",
   "execution_count": null,
   "id": "8c6848b5",
   "metadata": {},
   "outputs": [],
   "source": [
    "#insert DIM_MEALS data in DIM_MEALS sqlite table\n",
    "db.insert_table_sql(DIM_MEALS, 'DIM_MEALS', \"./dd_test.db\")"
   ]
  },
  {
   "cell_type": "code",
   "execution_count": null,
   "id": "b635e07a",
   "metadata": {},
   "outputs": [],
   "source": [
    "#Create dimension hotels\n",
    "DIM_HOTELS = dim.create_dim_hotel_table()"
   ]
  },
  {
   "cell_type": "code",
   "execution_count": null,
   "id": "ab7f3d50",
   "metadata": {},
   "outputs": [],
   "source": [
    "#insert DIM_HOTELS data in DIM_HOTELS sqlite table\n",
    "db.insert_table_sql(DIM_HOTELS, 'DIM_HOTELS', \"./dd_test.db\")"
   ]
  },
  {
   "cell_type": "code",
   "execution_count": null,
   "id": "deaee2c0",
   "metadata": {},
   "outputs": [],
   "source": [
    "#Create dimension users without transformation\n",
    "DIM_USERS_WT = dim.create_dim_users_table(users_complete)"
   ]
  },
  {
   "cell_type": "code",
   "execution_count": null,
   "id": "99c55124",
   "metadata": {},
   "outputs": [],
   "source": [
    "#Create dimension companies without transformation\n",
    "DIM_COMPANIES_WT = dim.create_dim_companies_table(users_complete)"
   ]
  },
  {
   "cell_type": "markdown",
   "id": "d41c6f8d",
   "metadata": {},
   "source": [
    "## -Transformation-"
   ]
  },
  {
   "cell_type": "markdown",
   "id": "78350b33",
   "metadata": {},
   "source": [
    "### Users"
   ]
  },
  {
   "cell_type": "code",
   "execution_count": null,
   "id": "e4555225",
   "metadata": {},
   "outputs": [],
   "source": [
    "#delete unnecessary columns\n",
    "DIM_USERS = tr.delete_columns(DIM_USERS_WT, ['username'])"
   ]
  },
  {
   "cell_type": "code",
   "execution_count": null,
   "id": "a213a900",
   "metadata": {},
   "outputs": [],
   "source": [
    "#lowercase some columns\n",
    "DIM_USERS = tr.lowercase(DIM_USERS, ['email', 'website'])"
   ]
  },
  {
   "cell_type": "code",
   "execution_count": null,
   "id": "2b8f9f28",
   "metadata": {},
   "outputs": [],
   "source": [
    "#capitalize column names and change them to standardized ones\n",
    "DIM_USERS =  tr.capitalize_rename_columns(DIM_USERS, ['USER_ID', 'USER_NAME', 'USER_EMAIL','USER_ADDRESS', 'USER_PHONE', 'USER_WEBSITE', 'COMPANY_ID'])"
   ]
  },
  {
   "cell_type": "code",
   "execution_count": null,
   "id": "58885898",
   "metadata": {},
   "outputs": [],
   "source": [
    "#cast company_id column to int\n",
    "DIM_USERS = tr.cast_column_to_dtype(DIM_USERS,'COMPANY_ID', str)"
   ]
  },
  {
   "cell_type": "markdown",
   "id": "cd402aa9",
   "metadata": {},
   "source": [
    "### Companies"
   ]
  },
  {
   "cell_type": "code",
   "execution_count": null,
   "id": "4819a54a",
   "metadata": {},
   "outputs": [],
   "source": [
    "#Delete rows containing NaN values\n",
    "DIM_COMPANIES = tr.drop_nan_rows(DIM_COMPANIES_WT)"
   ]
  },
  {
   "cell_type": "code",
   "execution_count": null,
   "id": "cbfe56c8",
   "metadata": {},
   "outputs": [],
   "source": [
    "#normalize company column\n",
    "DIM_COMPANIES = tr.normalize_column(DIM_COMPANIES, ['company'])"
   ]
  },
  {
   "cell_type": "code",
   "execution_count": null,
   "id": "288cb985",
   "metadata": {},
   "outputs": [],
   "source": [
    "#delete unnecessary columns for analysis\n",
    "DIM_COMPANIES = tr.delete_columns(DIM_COMPANIES, ['catchPhrase', 'bs'])"
   ]
  },
  {
   "cell_type": "code",
   "execution_count": null,
   "id": "b84681c3",
   "metadata": {},
   "outputs": [],
   "source": [
    "#capitalize column names and change them to standardized ones\n",
    "DIM_COMPANIES = tr.capitalize_rename_columns(DIM_COMPANIES, columns = ['COMPANY_ID', 'USER_ID','COMPANY_NAME'])"
   ]
  },
  {
   "cell_type": "code",
   "execution_count": null,
   "id": "6eb2c2b0",
   "metadata": {},
   "outputs": [],
   "source": [
    "#lowercase COMPANY_NAME column\n",
    "DIM_COMPANIES = tr.lowercase(DIM_COMPANIES, ['COMPANY_NAME'])"
   ]
  },
  {
   "cell_type": "code",
   "execution_count": null,
   "id": "0cd695a9",
   "metadata": {},
   "outputs": [],
   "source": [
    "#cast company_id column to int\n",
    "DIM_COMPANIES = tr.cast_column_to_dtype(DIM_COMPANIES,'COMPANY_ID', 'Int64')"
   ]
  },
  {
   "cell_type": "code",
   "execution_count": null,
   "id": "7715a9e1",
   "metadata": {},
   "outputs": [],
   "source": [
    "#sort column by company ids \n",
    "DIM_COMPANIES = DIM_COMPANIES.sort_values(by=['COMPANY_ID']).reset_index(drop=True)"
   ]
  },
  {
   "cell_type": "code",
   "execution_count": null,
   "id": "df3b2036",
   "metadata": {},
   "outputs": [],
   "source": [
    "#insert DIM_COMPANIES data in DIM_COMPANIES sqlite table\n",
    "db.insert_table_sql(DIM_COMPANIES, 'DIM_COMPANIES', \"./dd_test.db\")"
   ]
  },
  {
   "cell_type": "markdown",
   "id": "8b506990",
   "metadata": {},
   "source": [
    "### Bookings"
   ]
  },
  {
   "cell_type": "code",
   "execution_count": null,
   "id": "195fab98",
   "metadata": {},
   "outputs": [],
   "source": [
    "#Replace the name of the hotels by their ids\n",
    "BOOKINGS = tr.map_dimension_table(raw_bookings_complete,DIM_HOTELS,'hotel','HOTEL_ID','HOTEL_NAME')"
   ]
  },
  {
   "cell_type": "code",
   "execution_count": null,
   "id": "f2e4880e",
   "metadata": {},
   "outputs": [],
   "source": [
    "#cast agents column to int\n",
    "BOOKINGS = tr.cast_column_to_dtype(BOOKINGS,'agent', str)"
   ]
  },
  {
   "cell_type": "code",
   "execution_count": null,
   "id": "16dba657",
   "metadata": {},
   "outputs": [],
   "source": [
    "#create a arrival date column\n",
    "tr.create_arrival_date(BOOKINGS, 'arrival_date_day_of_month', 'arrival_date_month', 'arrival_date_year')"
   ]
  },
  {
   "cell_type": "code",
   "execution_count": null,
   "id": "d846e9bd",
   "metadata": {},
   "outputs": [],
   "source": [
    "#create a departure date column\n",
    "tr.get_departure_date(BOOKINGS)"
   ]
  },
  {
   "cell_type": "code",
   "execution_count": null,
   "id": "4b173b82",
   "metadata": {},
   "outputs": [],
   "source": [
    "#create a reservation date column\n",
    "tr.reservation_date(BOOKINGS)"
   ]
  },
  {
   "cell_type": "code",
   "execution_count": null,
   "id": "d7e5600a",
   "metadata": {},
   "outputs": [],
   "source": [
    "drop_columns = ['is_canceled', 'lead_time',\n",
    "       'arrival_date_year', 'arrival_date_month', 'arrival_date_day_of_month',\n",
    "       'stays_in_weekend_nights', 'stays_in_week_nights','is_repeated_guest', 'previous_cancellations',\n",
    "       'previous_bookings_not_canceled']\n",
    "\n",
    "#delete unnecessary columns for analysis\n",
    "BOOKINGS = tr.delete_columns(BOOKINGS, drop_columns)"
   ]
  },
  {
   "cell_type": "code",
   "execution_count": null,
   "id": "eb679377",
   "metadata": {},
   "outputs": [],
   "source": [
    "rename_columns = ['BOOKING_CODE', 'HOTEL_ID', 'ADULTS', 'CHILDREN', 'MEAL_ID', 'COUNTRY_ID',\n",
    "       'RESERVED_ROOM_TYPE_ID', 'ASSIGNED_ROOM_TYPE_ID', 'AGENT_ID',\n",
    "       'STATUS', 'LAST_UPDATED_AT', 'USER_ID',\n",
    "       'ARRIVAL_DATE', 'DEPARTURE_DATE', 'RESERVATION_DATE']\n",
    "\n",
    "#capitalize column names and change them to standardized ones\n",
    "BOOKINGS = tr.capitalize_rename_columns(BOOKINGS, rename_columns)"
   ]
  },
  {
   "cell_type": "code",
   "execution_count": null,
   "id": "fe1bdcc5",
   "metadata": {},
   "outputs": [],
   "source": [
    "#cast LAST_UPDATED_AT column to datetime\n",
    "BOOKINGS['LAST_UPDATED_AT'] = pd.to_datetime(BOOKINGS['LAST_UPDATED_AT'], format='%d/%m/%Y')"
   ]
  },
  {
   "cell_type": "code",
   "execution_count": null,
   "id": "6368cc86",
   "metadata": {},
   "outputs": [],
   "source": [
    "reorder_columns = [\n",
    " 'BOOKING_CODE',\n",
    " 'USER_ID',\n",
    " 'COUNTRY_ID',\n",
    " 'AGENT_ID',\n",
    " 'HOTEL_ID',\n",
    " 'ADULTS',\n",
    " 'CHILDREN',\n",
    " 'MEAL_ID',\n",
    " 'RESERVED_ROOM_TYPE_ID',\n",
    " 'ASSIGNED_ROOM_TYPE_ID',\n",
    " 'STATUS',\n",
    " 'LAST_UPDATED_AT',\n",
    " 'ARRIVAL_DATE',\n",
    " 'DEPARTURE_DATE',\n",
    " 'RESERVATION_DATE'\n",
    "]\n",
    "\n",
    "#reorder columns\n",
    "BOOKINGS = BOOKINGS[reorder_columns]"
   ]
  },
  {
   "cell_type": "code",
   "execution_count": null,
   "id": "3db54c64",
   "metadata": {},
   "outputs": [],
   "source": [
    "#insert BOOKINGS data in BOOKINGS sqlite table\n",
    "db.insert_table_sql(BOOKINGS, 'BOOKINGS', \"./dd_test.db\")"
   ]
  },
  {
   "cell_type": "markdown",
   "id": "606fccc7",
   "metadata": {},
   "source": [
    "## -Clean data- "
   ]
  },
  {
   "cell_type": "code",
   "execution_count": null,
   "id": "043e9697",
   "metadata": {},
   "outputs": [],
   "source": [
    "#put the prefix 'http://' in front of the websites that do not have it\n",
    "DIM_USERS['USER_WEBSITE'] = DIM_USERS['USER_WEBSITE'].apply(cl.add_https)"
   ]
  },
  {
   "cell_type": "code",
   "execution_count": null,
   "id": "bf7527cf",
   "metadata": {},
   "outputs": [],
   "source": [
    "#remove 'mrs.' from USER_NAME\n",
    "DIM_USERS['USER_NAME'] = DIM_USERS['USER_NAME'].str.replace('mrs. ','', regex = False)"
   ]
  },
  {
   "cell_type": "code",
   "execution_count": null,
   "id": "db3b41ad",
   "metadata": {},
   "outputs": [],
   "source": [
    "#cast objects columns for fill tables in sql\n",
    "list_columns = ['USER_NAME', 'USER_EMAIL', 'USER_ADDRESS', 'USER_PHONE', 'USER_WEBSITE', 'COMPANY_ID']\n",
    "for i in list_columns:\n",
    "    raw_users_complete = tr.cast_column_to_dtype(DIM_USERS, i, str)"
   ]
  },
  {
   "cell_type": "code",
   "execution_count": null,
   "id": "5ef00e8d",
   "metadata": {},
   "outputs": [],
   "source": [
    "#insert DIM_USERS data in DIM_USERS sqlite table\n",
    "db.insert_table_sql(DIM_USERS, 'DIM_USERS', \"./dd_test.db\")"
   ]
  },
  {
   "cell_type": "code",
   "execution_count": null,
   "id": "9b337128",
   "metadata": {},
   "outputs": [],
   "source": []
  },
  {
   "cell_type": "code",
   "execution_count": null,
   "id": "50157343",
   "metadata": {},
   "outputs": [],
   "source": []
  },
  {
   "cell_type": "code",
   "execution_count": null,
   "id": "d7e474d7",
   "metadata": {},
   "outputs": [],
   "source": []
  },
  {
   "cell_type": "code",
   "execution_count": null,
   "id": "9e62c774",
   "metadata": {},
   "outputs": [],
   "source": []
  }
 ],
 "metadata": {
  "kernelspec": {
   "display_name": "Python 3 (ipykernel)",
   "language": "python",
   "name": "python3"
  },
  "language_info": {
   "codemirror_mode": {
    "name": "ipython",
    "version": 3
   },
   "file_extension": ".py",
   "mimetype": "text/x-python",
   "name": "python",
   "nbconvert_exporter": "python",
   "pygments_lexer": "ipython3",
   "version": "3.10.9"
  },
  "toc": {
   "base_numbering": 1,
   "nav_menu": {},
   "number_sections": true,
   "sideBar": true,
   "skip_h1_title": false,
   "title_cell": "Table of Contents",
   "title_sidebar": "Contents",
   "toc_cell": false,
   "toc_position": {},
   "toc_section_display": true,
   "toc_window_display": false
  }
 },
 "nbformat": 4,
 "nbformat_minor": 5
}
